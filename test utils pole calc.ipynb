{
 "cells": [
  {
   "cell_type": "code",
   "execution_count": 5,
   "metadata": {
    "collapsed": false
   },
   "outputs": [],
   "source": [
    "import utils\n",
    "import sympy\n",
    "import numpy\n",
    "import itertools"
   ]
  },
  {
   "cell_type": "code",
   "execution_count": 8,
   "metadata": {
    "collapsed": true
   },
   "outputs": [],
   "source": [
    "def num_denom (A, symbolic_expr = False):\n",
    "\n",
    "    sym_den = 0\n",
    "    sym_num = 0\n",
    "    s = sympy.Symbol('s')\n",
    "\n",
    "    if type(A) == utils.mimotf:\n",
    "        denom   = 1\n",
    "        num     = 1\n",
    "        \n",
    "        for j in range(A.matrix.shape[1]):\n",
    "            denom = list(numpy.poly1d(denom) * numpy.poly1d(A.matrix[0,j].denominator.coeffs))\n",
    "            num   = list(numpy.poly1d(num)   * numpy.poly1d(A.matrix[0,j].numerator.coeffs))\n",
    "            if symbolic_expr == True:\n",
    "                for n in range(len(denom)):\n",
    "                    sym_den = (sym_den + denom[len(denom) - n- 1] * s**n).simplify()\n",
    "                for n in range(len(num)):\n",
    "                    sym_num = (sym_num + num[len(num) - n- 1] * s**n).simplify()\n",
    "                return sym_num, sym_den\n",
    "            else:\n",
    "                return num, denom\n",
    "            \n",
    "    elif type(A) == utils.tf:\n",
    "        denom = []\n",
    "        num = []\n",
    "            \n",
    "        denom = [list(A.denominator.coeffs)[n] for n in range(len(list(A.denominator.coeffs)))]\n",
    "        num   = [list(A.numerator.coeffs)[n] for n in range(len(list(A.numerator.coeffs)))]\n",
    "        if symbolic_expr == True:\n",
    "            for n in range(len(denom)):\n",
    "                sym_den = (sym_den + denom[len(denom) - n - 1] * s**n).simplify()\n",
    "            for n in range(len(num)):\n",
    "                sym_num = (sym_num + num[len(num) - n - 1] * s**n).simplify()\n",
    "            return sym_num, sym_den\n",
    "        else:\n",
    "            return num, denom\n",
    "    else:\n",
    "        sym_num, sym_den = A.as_numer_denom()\n",
    "        if not symbolic_expr:\n",
    "            num_poly   = sympy.Poly(sym_num)\n",
    "            numer      = [float(k) for k in num_poly.all_coeffs()]\n",
    "            den_poly   = sympy.Poly(sym_den)\n",
    "            denom      = [float(k) for k in den_poly.all_coeffs()]\n",
    "            return numer, denom\n",
    "        else:\n",
    "            return sym_num, sym_den\n",
    "\n",
    "def minors(G, order):\n",
    "    '''\n",
    "    Returns the order minors of a MIMO tf G.\n",
    "    '''\n",
    "    minor = []\n",
    "    Nrows, Ncols = G.shape\n",
    "    for rowstokeep in itertools.combinations(range(Nrows), order):\n",
    "        for colstokeep in itertools.combinations(range(Ncols), order):\n",
    "            minor.append(utils.det(G[rowstokeep,colstokeep]))\n",
    "    return minor\n",
    "\n",
    "\n",
    "def lcm_of_all_minors(G):\n",
    "    '''\n",
    "    Returns the lowest common multiple of all minors of G \n",
    "    '''\n",
    "    Nrows, Ncols = G.shape\n",
    "    lcm = 1\n",
    "    for i in range(1, min(Nrows, Ncols) + 1, 1):\n",
    "        allminors = minors(G, i)\n",
    "        for m in allminors:\n",
    "            numer, denom = num_denom(m,symbolic_expr = True)\n",
    "            lcm = sympy.lcm(lcm, denom)\n",
    "    return lcm\n",
    "\n",
    "\n",
    "def poles(G):\n",
    "    '''\n",
    "    Return the poles of a multivariable transfer function system. Applies\n",
    "    Theorem 4.4 (p135).\n",
    "\n",
    "    Parameters\n",
    "    ----------\n",
    "    G : sympy or mimotf matrix (n x n)\n",
    "        The transfer function G(s) of the system.\n",
    "\n",
    "    Returns\n",
    "    -------\n",
    "    pole : array\n",
    "        List of poles.\n",
    "\n",
    "    Example\n",
    "    -------\n",
    "    >>> s = tf([1,0],[1])\n",
    "    >>> G = mimotf([[(s - 1) / (s + 2), 4 / (s + 2)],\n",
    "    ...             [4.5 / (s + 2), 2 * (s - 1) / (s + 2)]])\n",
    "    >>> poles(G)\n",
    "    array([-2.])\n",
    "\n",
    "    '''\n",
    "\n",
    "    lcm = lcm_of_all_minors(G)\n",
    "    lcm_poly = sympy.Poly(lcm)\n",
    "    lcm_coeff = [float(k) for k in lcm_poly.all_coeffs()]\n",
    "    pole = numpy.roots(lcm_coeff)\n",
    "\n",
    "    return pole"
   ]
  },
  {
   "cell_type": "code",
   "execution_count": 3,
   "metadata": {
    "collapsed": false
   },
   "outputs": [],
   "source": [
    "s = utils.tf([1,0],[1])\n",
    "G = utils.mimotf([[(s - 1) / (s + 2), 4 / (s + 2)],\n",
    "            [4.5 / (s + 2), 2 * (s - 1) / (s + 2)], \n",
    "            [(s - 2) / (s + 2), 4*s / (s + 2)]])"
   ]
  },
  {
   "cell_type": "code",
   "execution_count": null,
   "metadata": {
    "collapsed": false
   },
   "outputs": [],
   "source": [
    "type(G) == utils.mimotf"
   ]
  },
  {
   "cell_type": "code",
   "execution_count": 9,
   "metadata": {
    "collapsed": false
   },
   "outputs": [
    {
     "data": {
      "text/plain": [
       "array([-2.])"
      ]
     },
     "execution_count": 9,
     "metadata": {},
     "output_type": "execute_result"
    }
   ],
   "source": [
    "poles(G)"
   ]
  },
  {
   "cell_type": "code",
   "execution_count": null,
   "metadata": {
    "collapsed": false
   },
   "outputs": [],
   "source": [
    "s = sp.Symbol('s')\n",
    "G = 1  / (s + 2) * sp.Matrix([[s - 1,  4],[4.5, 2 * (s - 1)]])"
   ]
  },
  {
   "cell_type": "code",
   "execution_count": null,
   "metadata": {
    "collapsed": false
   },
   "outputs": [],
   "source": [
    "utils.poles(G)"
   ]
  },
  {
   "cell_type": "code",
   "execution_count": null,
   "metadata": {
    "collapsed": true
   },
   "outputs": [],
   "source": [
    "G = 1  / (s + 2) * np.matrix([[s - 1,  4],[4.5, 2 * (s - 1)]])"
   ]
  }
 ],
 "metadata": {
  "kernelspec": {
   "display_name": "Python 3",
   "language": "python",
   "name": "python3"
  },
  "language_info": {
   "codemirror_mode": {
    "name": "ipython",
    "version": 3
   },
   "file_extension": ".py",
   "mimetype": "text/x-python",
   "name": "python",
   "nbconvert_exporter": "python",
   "pygments_lexer": "ipython3",
   "version": "3.5.1"
  }
 },
 "nbformat": 4,
 "nbformat_minor": 0
}
