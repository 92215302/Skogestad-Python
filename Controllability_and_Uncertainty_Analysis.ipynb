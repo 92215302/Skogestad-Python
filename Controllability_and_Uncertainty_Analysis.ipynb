{
 "cells": [
  {
   "cell_type": "markdown",
   "metadata": {},
   "source": [
    "# Controllability Analysis of Mill Discharge Circuit"
   ]
  },
  {
   "cell_type": "code",
   "execution_count": 1,
   "metadata": {
    "collapsed": false
   },
   "outputs": [],
   "source": [
    "from __future__ import print_function\n",
    "import numpy as np\n",
    "import sympy as sp\n",
    "import scipy as sc\n",
    "import numpy.linalg as nplinalg\n",
    "import scipy.linalg as sclinalg\n",
    "import matplotlib.pyplot as plt\n",
    "import utils\n",
    "import itertools\n",
    "import project_utils\n",
    "from sympy import latex, I\n",
    "from math import log10, floor\n",
    "from scipy.optimize import minimize\n",
    "from functools import partial\n",
    "from ipywidgets import interact\n",
    "import ipywidgets as widgets\n",
    "\n",
    "#from IPython.display                    import display, Math, Latex\n",
    "%matplotlib inline\n",
    "from sympy import *\n",
    "init_printing(num_columns = 100)\n",
    "#sp.init_printing(use_latex = True)\n",
    "sp.init_printing(use_latex = 'Matjax')"
   ]
  },
  {
   "cell_type": "markdown",
   "metadata": {},
   "source": [
    "# 1. Model Formulation"
   ]
  },
  {
   "cell_type": "markdown",
   "metadata": {},
   "source": [
    "### Process and Disturbance Variables"
   ]
  },
  {
   "cell_type": "markdown",
   "metadata": {},
   "source": [
    "u = [SFW, SP, SuFW, RFF, SF]"
   ]
  },
  {
   "cell_type": "markdown",
   "metadata": {},
   "source": [
    "y = [SL, CFD, RFD, SuL]"
   ]
  },
  {
   "cell_type": "markdown",
   "metadata": {},
   "source": [
    "### Process Parameters"
   ]
  },
  {
   "cell_type": "code",
   "execution_count": 2,
   "metadata": {
    "collapsed": true
   },
   "outputs": [],
   "source": [
    "G_VF_SF = 0.03\n",
    "O_VF_SF = 76.5\n",
    "t_VF_SF = 87.92\n",
    "G_SL_SF = 6e-4\n",
    "O_SL_SF = 121\n",
    "t_SL_SF = 90\n",
    "G_CFD_SF = 1.8e-7\n",
    "O_CFD_SF = 124\n",
    "C_CFD_SF = 0.0285\n",
    "G_SL_SFW = 0.0011\n",
    "O_SL_SFW = 0.415\n",
    "G_CFD_SFW = -8e-4\n",
    "O_CFD_SFW = 0.363\n",
    "t_CFD_SFW = 64.5\n",
    "G_SL_SP = -0.0078\n",
    "G_CFF_SP = 14.8\n",
    "O_CFF_SP = 0.56\n",
    "t_CFF_SP = 1.02\n",
    "G_CFP_SP = 0.9\n",
    "O_CFP_SP = 0.614\n",
    "t_CFP_SP = 0.97\n",
    "G_SuL_SuFW = 7e-5\n",
    "O_SuL_SuFW = 0.415\n",
    "G_SuL_RFF = -7e-5\n",
    "O_SuL_RFF = 6.26\n",
    "G_RFD_SuFW = -3e-4\n",
    "O_RFD_SuFW = 5.81\n",
    "t_RFD_SuFW = 1083.7\n",
    "G_RFD_CFD = 1\n",
    "O_RFD_CFD = 2.49\n",
    "t_RFD_CFD = 1422.9\n",
    "G_SuL_CFF = 3e-5\n",
    "O_SuL_CFF = 0.698"
   ]
  },
  {
   "cell_type": "markdown",
   "metadata": {},
   "source": [
    "### System and Distrurbance Transfer Function with and without deadtime"
   ]
  },
  {
   "cell_type": "code",
   "execution_count": 3,
   "metadata": {
    "collapsed": true
   },
   "outputs": [],
   "source": [
    "s = sp.Symbol('s')\n",
    "\n",
    "def model_with_deadtime():\n",
    "    # y = [VF, SL, CFF, CFD, CFP, SuL, RFD]\n",
    "    # u = [SF, SP, SuFW, RFF]\n",
    "    # d = [SFW]\n",
    "\n",
    "    VF_SF    = (G_VF_SF * exp(-O_VF_SF*s)) / (t_VF_SF * s + 1)\n",
    "    SL_SF    = (G_SL_SF * exp(-O_SL_SF*s)) / (s * (t_SL_SF * s + 1))\n",
    "    CFD_SF   = (G_CFD_SF * exp(-O_CFD_SF*s)) / (s * (s + C_CFD_SF))\n",
    "    RFD_SF   = (G_RFD_CFD * G_CFD_SF * exp(-(O_RFD_CFD + O_CFD_SF)*s)) / (s * (t_RFD_CFD * s + 1) * (s + C_CFD_SF))\n",
    "    SL_SP    = G_SL_SP / s\n",
    "    CFF_SP   = (G_CFF_SP * exp(-O_CFF_SP*s)) / (t_CFF_SP * s + 1)\n",
    "    CFP_SP   = (G_CFP_SP * exp(-O_CFP_SP*s)) / (t_CFP_SP * s + 1)\n",
    "    SuL_SP   = (G_SuL_CFF  * G_CFF_SP * exp(-(O_SuL_CFF + O_CFF_SP)*s)) / (s)\n",
    "    SuL_SuFW = (G_SuL_SuFW * exp(-O_SuL_SuFW*s)) / s\n",
    "    RFD_SuFW = (G_RFD_SuFW * exp(-O_RFD_SuFW*s)) / (t_RFD_SuFW * s + 1)\n",
    "    SuL_RFF  = (G_SuL_RFF * exp(-O_SuL_RFF*s)) / s\n",
    "\n",
    "    G = sp.Matrix([[0, VF_SF, 0, 0],\n",
    "                   [SL_SP, SL_SF, 0, 0],\n",
    "                   [CFF_SP, 0, 0, 0],\n",
    "                   [0, CFD_SF, 0, 0],\n",
    "                   [CFP_SP, 0, 0, 0],\n",
    "                   [SuL_SP, 0, SuL_RFF, SuL_SuFW],\n",
    "                   [0, RFD_SF, 0, RFD_SuFW]])\n",
    "    \n",
    "    SL_SFW   = (G_SL_SFW * exp(-O_SL_SFW*s))/ s\n",
    "    CFD_SFW  = (G_CFD_SFW * exp(-O_CFD_SFW*s))/((t_CFD_SFW * s + 1)*(s-1))\n",
    "    RFD_SFW  = (G_RFD_CFD  * G_CFD_SFW * exp(-(O_RFD_CFD + O_CFD_SFW)*s))/((t_RFD_CFD * s + 1) * (t_CFD_SFW * s + 1) * (s - 1))  \n",
    "    \n",
    "    Gd = sp.Matrix([[0],[SL_SFW],[0],[CFD_SFW],[0],[0],[RFD_SFW]])\n",
    "    \n",
    "    return G,Gd\n",
    "\n",
    "def model_no_deadtime():\n",
    "    # y = [VF, SL, CFF, CFD, CFP, SuL, RFD]\n",
    "    # u = [SF, SP, SuFW, RFF]\n",
    "    # d = [SFW]\n",
    "\n",
    "    VF_SF    = (G_VF_SF) / (t_VF_SF * s + 1)\n",
    "    SL_SF    = (G_SL_SF) / (s * (t_SL_SF * s + 1))\n",
    "    CFD_SF   = (G_CFD_SF) / (s * (s + C_CFD_SF))\n",
    "    CFF_SP   = (G_CFF_SP) / (t_CFF_SP * s + 1)\n",
    "    CFP_SP   = (G_CFP_SP) / (t_CFP_SP * s + 1)\n",
    "    RFD_SF   = (G_RFD_CFD * G_CFD_SF) / (s * (t_RFD_CFD * s + 1) * (s + C_CFD_SF))\n",
    "    SL_SP    = G_SL_SP / s\n",
    "    SuL_SP   = (G_SuL_CFF * G_CFF_SP) / (s)\n",
    "    SuL_SuFW = (G_SuL_SuFW) / s\n",
    "    RFD_SuFW = (G_RFD_SuFW) / (t_RFD_SuFW * s + 1)\n",
    "    SuL_RFF  = (G_SuL_RFF) / s\n",
    "    \n",
    "    \n",
    "    G = sp.Matrix([[0, VF_SF, 0, 0],\n",
    "                   [SL_SP, SL_SF, 0, 0],\n",
    "                   [CFF_SP, 0, 0, 0],\n",
    "                   [0, CFD_SF, 0, 0],\n",
    "                   [CFP_SP, 0, 0, 0],\n",
    "                   [SuL_SP, 0, SuL_RFF, SuL_SuFW],\n",
    "                   [0, RFD_SF, 0, RFD_SuFW]])\n",
    "        \n",
    "    SL_SFW   = (G_SL_SFW)/ s\n",
    "    CFD_SFW  = (G_CFD_SFW)/((t_CFD_SFW * s + 1)*(s-1))\n",
    "    RFD_SFW  = (G_RFD_CFD * G_CFD_SFW)/((t_RFD_CFD * s + 1) * (t_CFD_SFW * s + 1) * (s - 1))\n",
    "    \n",
    "    Gd = sp.Matrix([[0],[SL_SFW],[0],[CFD_SFW],[0],[0],[RFD_SFW]])\n",
    "\n",
    "    return G,Gd\n",
    "\n",
    "def model_deadtime():\n",
    "    \n",
    "    G_theta = np.matrix([[0, O_VF_SF, 0, 0],\n",
    "                         [0, O_SL_SF, 0, 0],\n",
    "                         [O_CFF_SP, 0, 0, 0],\n",
    "                         [0, O_CFD_SF, 0, 0],\n",
    "                         [O_CFP_SP, 0, 0, 0],\n",
    "                         [O_SuL_CFF + O_CFF_SP, 0, O_SuL_RFF, O_SuL_SuFW],\n",
    "                         [0, O_RFD_CFD+O_CFD_SF, 0, O_RFD_SuFW]])\n",
    "    \n",
    "    Gd_theta = np.matrix([[0],\n",
    "                          [O_SL_SFW],\n",
    "                          [0],\n",
    "                          [O_CFD_SFW],\n",
    "                          [0],\n",
    "                          [0],\n",
    "                          [O_RFD_CFD + O_CFD_SFW]])\n",
    "    \n",
    "    return G_theta, Gd_theta"
   ]
  },
  {
   "cell_type": "code",
   "execution_count": 4,
   "metadata": {
    "collapsed": false,
    "slideshow": {
     "slide_type": "slide"
    }
   },
   "outputs": [
    {
     "name": "stdout",
     "output_type": "stream",
     "text": [
      "Mimo transfer function matrix of system: \n",
      "\n",
      "[                                  -76.5*s                                              ]\n",
      "[                            0.03*e                                                     ]\n",
      "[        0                   -------------                  0                  0        ]\n",
      "[                             87.92*s + 1                                               ]\n",
      "[                                                                                       ]\n",
      "[                                   -121*s                                              ]\n",
      "[     -0.0078               0.0006*e                                                    ]\n",
      "[     --------              --------------                  0                  0        ]\n",
      "[        s                   s*(90*s + 1)                                               ]\n",
      "[                                                                                       ]\n",
      "[        -0.56*s                                                                        ]\n",
      "[  14.8*e                                                                               ]\n",
      "[  -------------                   0                        0                  0        ]\n",
      "[    1.02*s + 1                                                                         ]\n",
      "[                                                                                       ]\n",
      "[                                   -124*s                                              ]\n",
      "[                           1.8e-7*e                                                    ]\n",
      "[        0                  --------------                  0                  0        ]\n",
      "[                           s*(s + 0.0285)                                              ]\n",
      "[                                                                                       ]\n",
      "[       -0.614*s                                                                        ]\n",
      "[  0.9*e                                                                                ]\n",
      "[  -------------                   0                        0                  0        ]\n",
      "[    0.97*s + 1                                                                         ]\n",
      "[                                                                                       ]\n",
      "[          -1.258*s                                          -6.26*s           -0.415*s ]\n",
      "[0.000444*e                                         -7.0e-5*e          7.0e-5*e         ]\n",
      "[------------------                0                -----------------  ---------------- ]\n",
      "[        s                                                  s                 s         ]\n",
      "[                                                                                       ]\n",
      "[                                  -126.49*s                                    -5.81*s ]\n",
      "[                          1.8e-7*e                                    -0.0003*e        ]\n",
      "[        0           -----------------------------          0          -----------------]\n",
      "[                    s*(s + 0.0285)*(1422.9*s + 1)                        1083.7*s + 1  ]\n",
      "\n",
      "\n",
      " Mimo transfer function matrix of disturbance: \n",
      "[                 0                 ]\n",
      "[                                   ]\n",
      "[                 -0.415*s          ]\n",
      "[         0.0011*e                  ]\n",
      "[         ----------------          ]\n",
      "[                s                  ]\n",
      "[                                   ]\n",
      "[                 0                 ]\n",
      "[                                   ]\n",
      "[                 -0.363*s          ]\n",
      "[        -0.0008*e                  ]\n",
      "[       --------------------        ]\n",
      "[       (s - 1)*(64.5*s + 1)        ]\n",
      "[                                   ]\n",
      "[                 0                 ]\n",
      "[                                   ]\n",
      "[                 0                 ]\n",
      "[                                   ]\n",
      "[                  -2.853*s         ]\n",
      "[         -0.0008*e                 ]\n",
      "[-----------------------------------]\n",
      "[(s - 1)*(64.5*s + 1)*(1422.9*s + 1)]\n"
     ]
    }
   ],
   "source": [
    "G_hat,      Gd_hat      = model_no_deadtime()      # used only for scaling purposes\n",
    "G_hat_dead, Gd_hat_dead = model_with_deadtime()    # used to print and display what model MIMO tf matrix looks like\n",
    "print(\"Mimo transfer function matrix of system: \\n\")\n",
    "print(pretty(G_hat_dead, use_unicode=False))\n",
    "print(\"\\n\\n Mimo transfer function matrix of disturbance: \")\n",
    "print(pretty(Gd_hat_dead,use_unicode=False))"
   ]
  },
  {
   "cell_type": "markdown",
   "metadata": {},
   "source": [
    "# 2. Scale variables"
   ]
  },
  {
   "cell_type": "code",
   "execution_count": 5,
   "metadata": {
    "collapsed": true
   },
   "outputs": [],
   "source": [
    "def scale(G_hat,Gd_hat,AddDeadtime=False):\n",
    "    # y = [VF, SL, CFF, CFD, CFP, SuL, RFD]\n",
    "    # u = [SP, SF, RFF, SuFW]\n",
    "    # d = [SFW]\n",
    "    \n",
    "    e_hat_max = np.array([30, 20, 600, 0.3, 20, 25, 0.13])\n",
    "    De        = np.diag(e_hat_max)\n",
    "    #print(\"De = \",De)\n",
    "    \n",
    "    u_hat_max = np.array([25, 450, 1000, 200])\n",
    "    Du        = np.diag(u_hat_max)\n",
    "    #print(\"Du = \",Du)\n",
    "    \n",
    "    d_hat_max = np.array([350])\n",
    "    Dd        = np.diag(d_hat_max)\n",
    "    #print(\"Dd = \",Dd)\n",
    "    \n",
    "    G_scaled  = project_utils.round_coeff_matrix(nplinalg.inv(De)*(G_hat)*(Du))\n",
    "    Gd_scaled = project_utils.round_coeff_matrix(nplinalg.inv(De)*(Gd_hat)*(Dd))\n",
    "\n",
    "    if AddDeadtime == True:\n",
    "        G, Gd = add_deadtime(G_scaled, Gd_scaled)\n",
    "    else:\n",
    "        G = G_scaled\n",
    "        Gd = Gd_scaled\n",
    "        \n",
    "    return G,Gd\n",
    "\n",
    "def scale_utils(G_hat_utils,Gd_hat_utils):\n",
    "    # y = [VF, SL, CFF, CFD, CFP, SuL, RFD]\n",
    "    # u = [SP, SF, RFF, SuFW]\n",
    "    # d = [SFW]\n",
    "    \n",
    "    e_hat_max = np.array([30, 20, 600, 0.3, 20, 25, 0.13])\n",
    "    De        = np.diag(e_hat_max)\n",
    "    De_inv    = nplinalg.inv(De)\n",
    "    De_inv_utils    = [[] for r in range(De_inv.shape[0])]\n",
    "    \n",
    "    for r in range(De_inv.shape[0]):\n",
    "        for c in range(De_inv.shape[1]):\n",
    "            De_inv_utils[r].append(utils.tf([De_inv[r,c]]))\n",
    "    De_inv_mimo = utils.mimotf(De_inv_utils)\n",
    "\n",
    "    \n",
    "    u_hat_max = np.array([25, 450, 1000, 200])\n",
    "    Du        = np.diag(u_hat_max)\n",
    "    Du_utils    = [[] for r in range(Du.shape[0])]\n",
    "    \n",
    "    for r in range(Du.shape[0]):\n",
    "        for c in range(Du.shape[1]):\n",
    "            Du_utils[r].append(utils.tf([Du[r,c]]))\n",
    "    Du_mimo = utils.mimotf(Du_utils)\n",
    "\n",
    "    \n",
    "    d_hat_max = np.array([350])\n",
    "    Dd        = np.diag(d_hat_max)\n",
    "    Dd_utils    = [[] for r in range(Dd.shape[0])]\n",
    "    \n",
    "    for r in range(Dd.shape[0]):\n",
    "        for c in range(Dd.shape[1]):\n",
    "            Dd_utils[r].append(utils.tf([Dd[r,c]]))\n",
    "    Dd_mimo = utils.mimotf(Dd_utils)\n",
    "    \n",
    "    G_utils_scaled  = De_inv_mimo*(G_hat_utils)*(Du_mimo)\n",
    "    Gd_utils_scaled = De_inv_mimo*(Gd_hat_utils)*(Dd_mimo)\n",
    "\n",
    "    return G_utils_scaled,Gd_utils_scaled\n",
    "\n",
    "def add_deadtime(G,Gd, G_deadtime = None, Gd_deadtime = None):\n",
    "    \n",
    "    if (G_deadtime is None) or (Gd_deadtime is None):\n",
    "        G_deadtime, Gd_deadtime = model_deadtime()\n",
    "    \n",
    "    Grows, Gcols   = G.shape\n",
    "    Gdrows, Gdcols = Gd.shape\n",
    "    \n",
    "    G_dead  = sp.zeros(Grows,Gcols)\n",
    "    Gd_dead = sp.zeros(Gdrows,Gdcols)\n",
    "    \n",
    "    for cG in range(Gcols):\n",
    "        for rG in range(Grows):\n",
    "            G_dead[rG,cG] = G[rG,cG] * exp(-G_deadtime[rG,cG]*s)\n",
    "    for rGd in range(Gdrows):\n",
    "        for cGd in range(Gdcols):\n",
    "            Gd_dead[rGd,cGd] = Gd[rGd,cGd] * exp(-Gd_deadtime[rGd,cGd]*s)\n",
    "        \n",
    "    return G_dead, Gd_dead\n"
   ]
  },
  {
   "cell_type": "code",
   "execution_count": 6,
   "metadata": {
    "collapsed": false
   },
   "outputs": [
    {
     "name": "stdout",
     "output_type": "stream",
     "text": [
      "\n",
      "Mimo transfer function matrix of the system: \n",
      "\n",
      "[                               -76.5*s                                             ]\n",
      "[                          0.4*e                                                    ]\n",
      "[       0                  ------------                  0                 0        ]\n",
      "[                          87.9*s + 1.0                                             ]\n",
      "[                                                                                   ]\n",
      "[                               -121.0*s                                            ]\n",
      "[     -0.01               0.01*e                                                    ]\n",
      "[     ------             ----------------                0                 0        ]\n",
      "[       s                s*(90.0*s + 1.0)                                           ]\n",
      "[                                                                                   ]\n",
      "[       -0.56*s                                                                     ]\n",
      "[  0.6*e                                                                            ]\n",
      "[  ------------                  0                       0                 0        ]\n",
      "[  1.0*s + 1.0                                                                      ]\n",
      "[                                                                                   ]\n",
      "[                                -124.0*s                                           ]\n",
      "[                        0.0003*e                                                   ]\n",
      "[       0                ----------------                0                 0        ]\n",
      "[                        s*(1.0*s + 0.03)                                           ]\n",
      "[                                                                                   ]\n",
      "[      -0.614*s                                                                     ]\n",
      "[ 1.1*e                                                                             ]\n",
      "[ -------------                  0                       0                 0        ]\n",
      "[  1.0*s + 1.0                                                                      ]\n",
      "[                                                                                   ]\n",
      "[        -1.258*s                                         -6.26*s           -0.415*s]\n",
      "[0.0004*e                                         -0.003*e          0.0006*e        ]\n",
      "[----------------                0                ----------------  ----------------]\n",
      "[       s                                                s                 s        ]\n",
      "[                                                                                   ]\n",
      "[                                -126.49*s                                 -5.81*s  ]\n",
      "[                        0.0006*e                                    -0.5*e         ]\n",
      "[       0          -----------------------------         0           -------------- ]\n",
      "[                    /        2                \\                     1083.7*s + 1.0 ]\n",
      "[                  s*\\1422.9*s  + 41.6*s + 0.03/                                    ]\n",
      "\n",
      "\n",
      " Mimo transfer function matrix of the disturbance: \n",
      "[                         0                          ]\n",
      "[                                                    ]\n",
      "[                         -0.415*s                   ]\n",
      "[                   0.02*e                           ]\n",
      "[                   --------------                   ]\n",
      "[                         s                          ]\n",
      "[                                                    ]\n",
      "[                         0                          ]\n",
      "[                                                    ]\n",
      "[                        -0.363*s                    ]\n",
      "[                  -0.9*e                            ]\n",
      "[            ----------------------------            ]\n",
      "[                  2                                 ]\n",
      "[            64.5*s  - -63.5*(-1)*s - 1.0            ]\n",
      "[                                                    ]\n",
      "[                         0                          ]\n",
      "[                                                    ]\n",
      "[                         0                          ]\n",
      "[                                                    ]\n",
      "[                        -2.853*s                    ]\n",
      "[                  -2.2*e                            ]\n",
      "[----------------------------------------------------]\n",
      "[         3                  2                       ]\n",
      "[91777.0*s  - -90289.7*(-1)*s  - -1486.4*(-1)*s - 1.0]\n"
     ]
    }
   ],
   "source": [
    "G, Gd           = scale(G_hat,Gd_hat)\n",
    "G_dead, Gd_dead = scale(G_hat,Gd_hat,AddDeadtime = True)\n",
    "\n",
    "print(\"\\nMimo transfer function matrix of the system: \\n\")\n",
    "print(pretty(G_dead, use_unicode=False))\n",
    "print(\"\\n\\n Mimo transfer function matrix of the disturbance: \")\n",
    "print(pretty(Gd_dead,use_unicode=False))"
   ]
  },
  {
   "cell_type": "markdown",
   "metadata": {},
   "source": [
    "# 3. Minimal Realisation"
   ]
  },
  {
   "cell_type": "code",
   "execution_count": 7,
   "metadata": {
    "collapsed": true
   },
   "outputs": [],
   "source": [
    "def pole_zero_cancel(G, add_deadtime = False):\n",
    "    \n",
    "    rows, cols = G.shape\n",
    "    G_minimal = sp.zeros(rows,cols)\n",
    "    \n",
    "    G_deadtime,_ = model_deadtime()\n",
    "    \n",
    "    for c in range(cols):\n",
    "        for r in range(rows):\n",
    "            \n",
    "            G[r,c] = G[r,c].simplify()\n",
    "                \n",
    "            if add_deadtime == True:\n",
    "                G_minimal[r,c] = G[r,c] * exp(-G_deadtime[r,c]*s)\n",
    "            else:\n",
    "                G_minimal[r,c] = G[r,c]\n",
    "                \n",
    "    return G_minimal"
   ]
  },
  {
   "cell_type": "code",
   "execution_count": 8,
   "metadata": {
    "collapsed": false
   },
   "outputs": [
    {
     "name": "stdout",
     "output_type": "stream",
     "text": [
      "Minimal realisation for of system MIMO transfer function matrix: \n",
      "\n",
      "[                               -76.5*s                                             ]\n",
      "[                          0.4*e                                                    ]\n",
      "[       0                  ------------                  0                 0        ]\n",
      "[                          87.9*s + 1.0                                             ]\n",
      "[                                                                                   ]\n",
      "[                               -121.0*s                                            ]\n",
      "[     -0.01               0.01*e                                                    ]\n",
      "[     ------             ----------------                0                 0        ]\n",
      "[       s                s*(90.0*s + 1.0)                                           ]\n",
      "[                                                                                   ]\n",
      "[       -0.56*s                                                                     ]\n",
      "[  0.6*e                                                                            ]\n",
      "[  ------------                  0                       0                 0        ]\n",
      "[     s + 1                                                                         ]\n",
      "[                                                                                   ]\n",
      "[                                -124.0*s                                           ]\n",
      "[                        0.0003*e                                                   ]\n",
      "[       0                ----------------                0                 0        ]\n",
      "[                        s*(1.0*s + 0.03)                                           ]\n",
      "[                                                                                   ]\n",
      "[      -0.614*s                                                                     ]\n",
      "[ 1.1*e                                                                             ]\n",
      "[ -------------                  0                       0                 0        ]\n",
      "[     s + 1                                                                         ]\n",
      "[                                                                                   ]\n",
      "[        -1.258*s                                         -6.26*s           -0.415*s]\n",
      "[0.0004*e                                         -0.003*e          0.0006*e        ]\n",
      "[----------------                0                ----------------  ----------------]\n",
      "[       s                                                s                 s        ]\n",
      "[                                                                                   ]\n",
      "[                                -126.49*s                                 -5.81*s  ]\n",
      "[                        0.0006*e                                    -0.5*e         ]\n",
      "[       0          -----------------------------         0           -------------- ]\n",
      "[                    /        2                \\                     1083.7*s + 1.0 ]\n",
      "[                  s*\\1422.9*s  + 41.6*s + 0.03/                                    ]\n",
      "\n",
      " \n",
      "By inspection the MIMO transfer function model was already a minimal realisation, as there are no zeros in any of the SISO \n",
      "transfer functions. This result verifies the observation\n"
     ]
    }
   ],
   "source": [
    "G_minimal = pole_zero_cancel(G, add_deadtime = True)\n",
    "print(\"Minimal realisation for of system MIMO transfer function matrix: \\n\")\n",
    "print(pretty(G_minimal, use_unicode=False))\n",
    "print('\\n \\nBy inspection the MIMO transfer function model was already a minimal realisation, as there are no zeros in any of the SISO \\ntransfer functions. This result verifies the observation') "
   ]
  },
  {
   "cell_type": "markdown",
   "metadata": {},
   "source": [
    "# 4. Functional Controllability"
   ]
  },
  {
   "cell_type": "code",
   "execution_count": 9,
   "metadata": {
    "collapsed": true
   },
   "outputs": [],
   "source": [
    "def utils_add_deadtime(G_utils,Gd_utils, G_deadtime = None, Gd_deadtime = None):\n",
    "    \n",
    "    if (G_deadtime is None) or (Gd_deadtime is None):\n",
    "        G_deadtime, Gd_deadtime = model_deadtime()\n",
    "\n",
    "    Grows, Gcols = G_utils.shape\n",
    "    Gdrows, Gdcols = Gd_utils.shape\n",
    "    \n",
    "    G = [[] for r in range(Grows)]\n",
    "    Gd = [[] for r in range(Gdrows)]\n",
    "    \n",
    "    for rG in range(Grows):\n",
    "        for cG in range(Gcols):\n",
    "            G[rG].append(utils.tf(list(G_utils[rG,cG].numerator.coeffs), list(G_utils[rG,cG].denominator.coeffs),deadtime = G_deadtime[rG,cG]))\n",
    "            \n",
    "    for rGd in range(Gdrows):\n",
    "        for cGd in range(Gdcols):\n",
    "            Gd[rGd].append(utils.tf(list(Gd_utils[rGd,cGd].numerator.coeffs), list(Gd_utils[rGd,cGd].denominator.coeffs),deadtime = Gd_deadtime[rGd,cGd]))\n",
    "        \n",
    "    return utils.mimotf(G), utils.mimotf(Gd)\n",
    "\n",
    "def square_model(G, Gd, outputs_remove, AddDeadtime=False):\n",
    "    \n",
    "    y = ['VF', 'SL', 'CFF', 'CFD', 'CFP', 'SuL', 'RFD']\n",
    "    \n",
    "    Grows, Gcols   = G.shape\n",
    "    Gdrows, Gdcols = Gd.shape\n",
    "    G_deadtime, Gd_deadtime = model_deadtime()\n",
    "    \n",
    "    G_square  = sp.zeros(Grows-len(outputs_remove),Gcols)\n",
    "    Gd_square = sp.zeros(Grows-len(outputs_remove),Gdcols)\n",
    "    G_deadtime_square  = np.zeros((Grows-len(outputs_remove),Gcols))\n",
    "    Gd_deadtime_square = np.zeros((Grows-len(outputs_remove),Gdcols))\n",
    "        \n",
    "    rows_to_skip = []\n",
    "    k = 0\n",
    "    for rG in range(Grows):\n",
    "        if not any(output == y[rG] for output in outputs_remove):\n",
    "            G_square[k,:] = G[rG,:]\n",
    "            Gd_square[k,:]= Gd[rG,:]      \n",
    "            G_deadtime_square[k,:] = G_deadtime[rG,:]\n",
    "            Gd_deadtime_square[k,:] = Gd_deadtime[rG,:]\n",
    "            k+=1\n",
    "    \n",
    "    G_utils  = utils.sym2mimotf(G_square)\n",
    "    Gd_utils = utils.sym2mimotf(Gd_square)\n",
    "\n",
    "    \n",
    "    if AddDeadtime == True:\n",
    "        G, Gd = add_deadtime(G_square, Gd_square, G_deadtime_square, Gd_deadtime_square)\n",
    "        G_utils_deadtime, Gd_utils_deadtime = utils_add_deadtime(G_utils, Gd_utils, G_deadtime_square, Gd_deadtime_square)\n",
    "        return G, Gd, G_utils_deadtime, Gd_utils_deadtime, G_deadtime_square, Gd_deadtime_square\n",
    "    else:\n",
    "        return G_square, Gd_square, G_utils, Gd_utils, G_deadtime_square, Gd_deadtime_square"
   ]
  },
  {
   "cell_type": "code",
   "execution_count": 10,
   "metadata": {
    "collapsed": false
   },
   "outputs": [
    {
     "name": "stdout",
     "output_type": "stream",
     "text": [
      "\n",
      "Mimo transfer function matrix of the system: \n",
      "\n",
      "[-0.0078              0.0006                                    ]\n",
      "[--------          ------------              0           0      ]\n",
      "[   s              s*(90*s + 1)                                 ]\n",
      "[                                                               ]\n",
      "[                     1.8e-7                                    ]\n",
      "[   0             --------------             0           0      ]\n",
      "[                 s*(s + 0.0285)                                ]\n",
      "[                                                               ]\n",
      "[0.000444                                 -7.0e-5      7.0e-5   ]\n",
      "[--------                0                --------     ------   ]\n",
      "[   s                                        s           s      ]\n",
      "[                                                               ]\n",
      "[                      1.8e-7                         -0.0003   ]\n",
      "[   0      -----------------------------     0      ------------]\n",
      "[          s*(s + 0.0285)*(1422.9*s + 1)            1083.7*s + 1]\n"
     ]
    }
   ],
   "source": [
    "Ghat_square, Gdhat_square, Ghat_utils, Gdhat_utils, _ , _ = square_model(G_hat, Gd_hat, ['VF','CFF','CFP'])\n",
    "print(\"\\nMimo transfer function matrix of the system: \\n\")\n",
    "print(pretty(Ghat_square, use_unicode=False))"
   ]
  },
  {
   "cell_type": "code",
   "execution_count": 11,
   "metadata": {
    "collapsed": false
   },
   "outputs": [
    {
     "name": "stdout",
     "output_type": "stream",
     "text": [
      "\n",
      "Mimo transfer function matrix of the system: \n",
      "\n",
      "[                               -121.0*s                                            ]\n",
      "[     -0.01               0.01*e                                                    ]\n",
      "[     ------             ----------------                0                 0        ]\n",
      "[       s                s*(90.0*s + 1.0)                                           ]\n",
      "[                                                                                   ]\n",
      "[                                -124.0*s                                           ]\n",
      "[                        0.0003*e                                                   ]\n",
      "[       0                ----------------                0                 0        ]\n",
      "[                        s*(1.0*s + 0.03)                                           ]\n",
      "[                                                                                   ]\n",
      "[        -1.258*s                                         -6.26*s           -0.415*s]\n",
      "[0.0004*e                                         -0.003*e          0.0006*e        ]\n",
      "[----------------                0                ----------------  ----------------]\n",
      "[       s                                                s                 s        ]\n",
      "[                                                                                   ]\n",
      "[                                -126.49*s                                 -5.81*s  ]\n",
      "[                        0.0006*e                                    -0.5*e         ]\n",
      "[       0          -----------------------------         0           -------------- ]\n",
      "[                    /        2                \\                     1083.7*s + 1.0 ]\n",
      "[                  s*\\1422.9*s  + 41.6*s + 0.03/                                    ]\n",
      "\n",
      "Mimo transfer function matrix of the system: \n",
      "\n",
      "[                         -0.415*s                   ]\n",
      "[                   0.02*e                           ]\n",
      "[                   --------------                   ]\n",
      "[                         s                          ]\n",
      "[                                                    ]\n",
      "[                        -0.363*s                    ]\n",
      "[                  -0.9*e                            ]\n",
      "[            ----------------------------            ]\n",
      "[                  2                                 ]\n",
      "[            64.5*s  - -63.5*(-1)*s - 1.0            ]\n",
      "[                                                    ]\n",
      "[                         0                          ]\n",
      "[                                                    ]\n",
      "[                        -2.853*s                    ]\n",
      "[                  -2.2*e                            ]\n",
      "[----------------------------------------------------]\n",
      "[         3                  2                       ]\n",
      "[91777.0*s  - -90289.7*(-1)*s  - -1486.4*(-1)*s - 1.0]\n"
     ]
    }
   ],
   "source": [
    "G_square, Gd_square, G_utils, Gd_utils, _ , _ = square_model(G, Gd, ['VF','CFF','CFP'])\n",
    "G_square_deadtime, Gd_square_deadtime, G_utils_deadtime, Gd_utils_deadtime, G_theta_square, Gd_theta_square = square_model(G, Gd, ['VF','CFF','CFP'], AddDeadtime = True)\n",
    "\n",
    "print(\"\\nMimo transfer function matrix of the system: \\n\")\n",
    "print(pretty(G_square_deadtime, use_unicode=False))\n",
    "print(\"\\nMimo transfer function matrix of the system: \\n\")\n",
    "print(pretty(Gd_square_deadtime, use_unicode=False))"
   ]
  },
  {
   "cell_type": "code",
   "execution_count": 12,
   "metadata": {
    "collapsed": true
   },
   "outputs": [],
   "source": [
    "def functional_controllability(G_utils,Nu,Ny):\n",
    "    \n",
    "    if Nu >= Ny: print('The system is functionally controllable because the number of inputs are greater than or equal to the number of outputs')\n",
    "    \n",
    "    freq_range = np.logspace(-4,2,1000)\n",
    "    singular_values = np.zeros((len(freq_range),G_utils.shape[0]))\n",
    "    min_sv = []\n",
    "    bandwidth_position = []\n",
    "    bandwidth_freq = []\n",
    "    detG = np.zeros((len(freq_range),1))\n",
    "    detGzeroFreq = []\n",
    "    rank = np.zeros((len(freq_range),1))\n",
    "    for i in range(len(freq_range)):\n",
    "        U, Sv, V = nplinalg.svd(G_utils(1j*freq_range[i])) \n",
    "        singular_values[i][:] = Sv[:]\n",
    "        min_sv.append(min(singular_values[i]))\n",
    "        if min(singular_values[i]) < 10e-4: \n",
    "            bandwidth_position.append(i)\n",
    "            bandwidth_freq.append(freq_range[i])\n",
    "            \n",
    "        detG[i] = np.abs(nplinalg.det(G_utils(1j*freq_range[i])))\n",
    "        if detG[i] < 10e-4:\n",
    "            detGzeroFreq.append(freq_range[i])\n",
    "        \n",
    "        rank[i] = nplinalg.matrix_rank(G_utils(1j)) # find the rank of the controllability matrix\n",
    "\n",
    "    \n",
    "    plt.figure()\n",
    "    plt.loglog(freq_range, min_sv)\n",
    "    plt.axhline(10e-4, color='red')\n",
    "    plt.axvline(bandwidth_freq[0], color='red')\n",
    "    plt.xlabel('Frequency [rad/s]')\n",
    "    plt.ylabel('Minimum Singular Value')\n",
    "    \n",
    "    plt.figure()\n",
    "    plt.loglog(freq_range,detG)\n",
    "    plt.axhline(10e-4, color='red')\n",
    "    plt.axvline(detGzeroFreq[0], color='red')\n",
    "    plt.xlabel('Frequency [rad/s]')\n",
    "    plt.ylabel('det(G)')\n",
    "    \n",
    "    plt.figure()\n",
    "    plt.semilogx(freq_range,rank)\n",
    "    #plt.axhline(10e-4, color='red')\n",
    "    #plt.axvline(detGzeroFreq[0], color='red')\n",
    "    plt.xlabel('Frequency [rad/s]')\n",
    "    plt.ylabel('Rank')\n",
    "    \n",
    "    \n",
    "\n",
    "    return bandwidth_freq[0]/2*pi, detGzeroFreq[0]/2*pi"
   ]
  },
  {
   "cell_type": "code",
   "execution_count": 13,
   "metadata": {
    "collapsed": false
   },
   "outputs": [
    {
     "data": {
      "image/png": "[encoded data removed]",
      "text/plain": [
       "<matplotlib.figure.Figure at 0xa063f60>"
      ]
     },
     "metadata": {},
     "output_type": "display_data"
    },
    {
     "data": {
      "image/png": "[encoded data removed]",
      "text/plain": [
       "<matplotlib.figure.Figure at 0xa21a5f8>"
      ]
     },
     "metadata": {},
     "output_type": "display_data"
    },
    {
     "data": {
      "image/png": "[encoded data removed]",
      "text/plain": [
       "<matplotlib.figure.Figure at 0xa263a58>"
      ]
     },
     "metadata": {},
     "output_type": "display_data"
    }
   ],
   "source": [
    "Nu = G.shape[1]\n",
    "Ny = G.shape[0]\n",
    "bandwidth_freq, detGzeroFreq = functional_controllability(G_utils_deadtime,Nu,Ny)"
   ]
  },
  {
   "cell_type": "code",
   "execution_count": 14,
   "metadata": {
    "collapsed": false
   },
   "outputs": [
    {
     "name": "stdout",
     "output_type": "stream",
     "text": [
      "As seen in the minimum singular value figure, the system is functionally controllable up to frequency of 0.714 Hz,\n",
      "whereafter the minimum singular value approaches zero\n",
      "\n",
      "The determinant of G, however becomes zero at a lower frequency of 0.029 Hz\n",
      "Lastly, the requirement for functional controllability to maintain full rank across the frequency range appears to hold.\n"
     ]
    }
   ],
   "source": [
    "print('As seen in the minimum singular value figure, the system is functionally controllable up to frequency of %.3f Hz,\\nwhereafter the minimum singular value approaches zero\\n' %bandwidth_freq)\n",
    "print('The determinant of G, however becomes zero at a lower frequency of %.3f Hz'%detGzeroFreq)\n",
    "print('Lastly, the requirement for functional controllability to maintain full rank across the frequency range appears to hold.')"
   ]
  },
  {
   "cell_type": "markdown",
   "metadata": {},
   "source": [
    "# 5. Pole Locations & Directions"
   ]
  },
  {
   "cell_type": "code",
   "execution_count": 15,
   "metadata": {
    "collapsed": false
   },
   "outputs": [],
   "source": [
    "def minors(G,order):\n",
    "    minor = []\n",
    "    Nrows, Ncols = G.shape\n",
    "    for rowstokeep in itertools.combinations(range(Nrows),order):\n",
    "        for colstokeep in itertools.combinations(range(Ncols),order):\n",
    "            minor.append(utils.det(G[rowstokeep,colstokeep]))\n",
    "    return minor\n",
    "\n",
    "def num_denom (A, symbolic_expr = False):\n",
    "    \n",
    "    sym_den = 0\n",
    "    sym_num = 0\n",
    "        \n",
    "    if type(A) == utils.mimotf:\n",
    "        denom   = 1\n",
    "        num     = 1\n",
    "        \n",
    "        for j in range(A.matrix.shape[1]):\n",
    "            denom = list(np.poly1d(denom) * np.poly1d(A.matrix[0,j].denominator.coeffs))\n",
    "            num   = list(np.poly1d(num)   * np.poly1d(A.matrix[0,j].numerator.coeffs))\n",
    "            if symbolic_expr == True:\n",
    "                for n in range(len(denom)):\n",
    "                    sym_den = (sym_den + denom[len(denom) - n- 1] * s**n).simplify()\n",
    "                for n in range(len(num)):\n",
    "                    sym_num = (sym_num + num[len(num) - n- 1] * s**n).simplify()\n",
    "                return sym_num, sym_den\n",
    "            else:\n",
    "                return num, denom\n",
    "            \n",
    "    elif type(A) == utils.tf:\n",
    "        denom = []\n",
    "        num = []\n",
    "            \n",
    "        denom = [list(A.denominator.coeffs)[n] for n in range(len(list(A.denominator.coeffs)))]\n",
    "        num   = [list(A.numerator.coeffs)[n] for n in range(len(list(A.numerator.coeffs)))]\n",
    "        if symbolic_expr == True:\n",
    "            for n in range(len(denom)):\n",
    "                sym_den = (sym_den + denom[len(denom) - n - 1] * s**n).simplify()\n",
    "            for n in range(len(num)):\n",
    "                sym_num = (sym_num + num[len(num) - n - 1] * s**n).simplify()\n",
    "            return sym_num, sym_den\n",
    "        else:\n",
    "            return num, denom\n",
    "    else:\n",
    "        sym_num, sym_den = A.as_numer_denom()\n",
    "        if not symbolic_expr:\n",
    "            num_poly   = sp.Poly(sym_num)\n",
    "            numer      = [float(k) for k in num_poly.all_coeffs()]\n",
    "            den_poly   = sp.Poly(sym_den)\n",
    "            denom      = [float(k) for k in den_poly.all_coeffs()]\n",
    "            return numer, denom\n",
    "        else:\n",
    "            return sym_num, sym_den\n",
    "    \n",
    "def lcm_of_all_minors(G):\n",
    "    \n",
    "    Nrows, Ncols = G.shape\n",
    "    lcm = 1\n",
    "    for i in range(1,min(Nrows,Ncols)+1,1):\n",
    "        allminors = minors(G,i)\n",
    "        for m in allminors:\n",
    "            _, sym_den = num_denom (m, symbolic_expr = True)\n",
    "            lcm = sp.lcm(lcm,sym_den)\n",
    "\n",
    "    return lcm\n",
    "\n",
    "def calc_poles(G):\n",
    "    \n",
    "    lcm       = lcm_of_all_minors(G)\n",
    "    lcm_poly  = sp.Poly(lcm)\n",
    "    lcm_coeff = [float(k) for k in lcm_poly.all_coeffs()]\n",
    "    pole      = np.roots(lcm_coeff)\n",
    "        \n",
    "    return list(set(pole))\n",
    "\n",
    "def calc_zeros(G,tf_method):\n",
    "    \n",
    "    if tf_method == 'det':\n",
    "        determinant = G.det()\n",
    "        numer,_ = num_denom (determinant, symbolic_expr = False)\n",
    "        zero = np.roots(numer)\n",
    "    elif tf_method == 'minors':\n",
    "        lcm = lcm_of_all_minors(G)\n",
    "        allminors = minors(G,G.shape[0])\n",
    "        gcd = None\n",
    "        for m in allminors:\n",
    "            sym_num, sym_den = num_denom (m, symbolic_expr = True)\n",
    "            if sym_den != lcm:\n",
    "                sym_num = sym_num * sym_den\n",
    "            if sym_num.find('s'):\n",
    "                num_poly   = sp.Poly(sym_num)\n",
    "                numer      = [float(k) for k in num_poly.all_coeffs()]\n",
    "                if not gcd:\n",
    "                    gcd = np.poly1d(numer)\n",
    "                else:\n",
    "                    gcd = polygcd(gcd,np.poly1d(numer))\n",
    "            else:\n",
    "                gcd = poly1d(numer)\n",
    "\n",
    "        zero = np.roots(gcd)\n",
    "    else: raise ValueError('Incorrect solution method for transfer function given')\n",
    "            \n",
    "    return list(set(zero))\n",
    "\n",
    "\n",
    "def RHPonly(x):\n",
    "    RHPx = []\n",
    "    for i in range(len(x)):\n",
    "        if x[i].real >= 0:\n",
    "            xreal = np.round(x[i].real,2)\n",
    "            ximag = np.round(x[i].imag,2)\n",
    "            RHPx.append(complex(xreal,ximag))\n",
    "    return list(set(RHPx))\n",
    "\n",
    "def pole_zero_directions(G, pz_vec, dir_type):\n",
    "\n",
    "    e = 0.000001\n",
    "\n",
    "    N = len(pz_vec)\n",
    "    pz_data = []\n",
    "    Uin  = np.matrix(np.zeros([G.shape[0], N],dtype=complex))\n",
    "    Yout = np.matrix(np.zeros([G.shape[0], N],dtype=complex))\n",
    "\n",
    "    if dir_type == 'p':\n",
    "        dt = 0\n",
    "    elif dir_type == 'z':\n",
    "        dt = -1\n",
    "    else: raise ValueError('Incorrect dir_type parameter')\n",
    "        \n",
    "    for i in range(N):\n",
    "        d = pz_vec[i]\n",
    "        U, _, V = nplinalg.svd(G(d+e)) \n",
    "        u = V[:, dt]\n",
    "        y = U[:, dt]\n",
    "        pz_data.append((d, u, y))\n",
    "        Uin[:,i]  = u\n",
    "        Yout[:,i] = y\n",
    "      \n",
    "    return pz_data, Uin, Yout"
   ]
  },
  {
   "cell_type": "code",
   "execution_count": 16,
   "metadata": {
    "collapsed": false
   },
   "outputs": [
    {
     "name": "stdout",
     "output_type": "stream",
     "text": [
      "The poles of the system are:\n",
      "\t -0.1\n",
      "\t -0+0.04j\n",
      "\t -0-0j\n",
      "\t 0.0\n",
      "\t -0.1+0.02j\n",
      "\t 0.005+0.03j\n",
      "\t -0+0.04j\n",
      "\t -0-0j\n",
      "\t -0.0\n",
      "\t -0.1-0j\n",
      "\t 0.005-0j\n"
     ]
    },
    {
     "data": {
      "text/plain": [
       "<matplotlib.figure.Figure at 0xc1815f8>"
      ]
     },
     "metadata": {},
     "output_type": "display_data"
    },
    {
     "data": {
      "image/png": "[encoded data removed]",
      "text/plain": [
       "<matplotlib.figure.Figure at 0xc1e0e48>"
      ]
     },
     "metadata": {},
     "output_type": "display_data"
    },
    {
     "name": "stdout",
     "output_type": "stream",
     "text": [
      "\n",
      "The RHP poles of the system are:\n",
      "\t 0j\n",
      "\t 0.01-0.03j\n",
      "\t 0.01+0.03j\n"
     ]
    }
   ],
   "source": [
    "tf_poles    = calc_poles(G_utils_deadtime)\n",
    "RHPpoles    = RHPonly(tf_poles)\n",
    "\n",
    "print('The poles of the system are:')\n",
    "project_utils.print_complex_no(project_utils.round_complex_no(tf_poles))\n",
    "project_utils.plot_complex(tf_poles)\n",
    "\n",
    "print('\\nThe RHP poles of the system are:')\n",
    "project_utils.print_complex_no(RHPpoles)"
   ]
  },
  {
   "cell_type": "code",
   "execution_count": 17,
   "metadata": {
    "collapsed": false
   },
   "outputs": [
    {
     "name": "stdout",
     "output_type": "stream",
     "text": [
      "Poles              | 0.000 | 0.010-0.030j | 0.010+0.030j\n",
      "\n",
      "input direction  1 |0.190 |0.996 |0.996\n",
      "input direction  2 |-0.982 |-0.010 |-0.010\n",
      "input direction  3 |0.017 |-0.093 |-0.093\n",
      "input direction  4 |-0.000 |-0.001 |-0.001\n",
      "output direction 1 |-0.471 |-0.316 - 0.948j |-0.316 + 0.948j\n",
      "output direction 2 |-0.395 |-0.008 - 0.014j |-0.008 + 0.014j\n",
      "output direction 3 |0.003 |0.012 + 0.041j |0.012 - 0.041j\n",
      "output direction 4 |-0.789 |0.000 - 0.001j |0.000 + 0.001j\n",
      "\n"
     ]
    }
   ],
   "source": [
    "rowheading = ['input direction  ', 'output direction ']\n",
    "poledata, Up, Yp = pole_zero_directions(G_utils_deadtime, RHPpoles,'p')\n",
    "project_utils.display_export_data(poledata, 'Poles             ', rowheading)"
   ]
  },
  {
   "cell_type": "markdown",
   "metadata": {},
   "source": [
    "# 6. Zero Locations and Directions"
   ]
  },
  {
   "cell_type": "code",
   "execution_count": 18,
   "metadata": {
    "collapsed": false
   },
   "outputs": [
    {
     "name": "stdout",
     "output_type": "stream",
     "text": [
      "The zeros of the system are:\n",
      "\t -0.0\n"
     ]
    },
    {
     "data": {
      "text/plain": [
       "<matplotlib.figure.Figure at 0xc1e99b0>"
      ]
     },
     "metadata": {},
     "output_type": "display_data"
    },
    {
     "data": {
      "image/png": "[encoded data removed]",
      "text/plain": [
       "<matplotlib.figure.Figure at 0xb1271d0>"
      ]
     },
     "metadata": {},
     "output_type": "display_data"
    },
    {
     "name": "stdout",
     "output_type": "stream",
     "text": [
      "\n",
      "The RHP zeros of the system are:\n",
      "\t []\n"
     ]
    }
   ],
   "source": [
    "tf_zeros    = calc_zeros(G_square,'det')\n",
    "RHPzeros    = RHPonly(tf_zeros)\n",
    "\n",
    "print('The zeros of the system are:')\n",
    "project_utils.print_complex_no(project_utils.round_complex_no(tf_zeros))\n",
    "project_utils.plot_complex(tf_zeros,axlim = [-0.035, None,None,None])\n",
    "\n",
    "print('\\nThe RHP zeros of the system are:')\n",
    "project_utils.print_complex_no(RHPzeros)"
   ]
  },
  {
   "cell_type": "code",
   "execution_count": 19,
   "metadata": {
    "collapsed": false
   },
   "outputs": [
    {
     "name": "stdout",
     "output_type": "stream",
     "text": [
      "Zeros              | -0.030\n",
      "\n",
      "input direction  1 |0.000\n",
      "input direction  2 |-0.003\n",
      "input direction  3 |0.169\n",
      "input direction  4 |0.986\n",
      "output direction 1 |0.001\n",
      "output direction 2 |-0.000\n",
      "output direction 3 |0.026\n",
      "output direction 4 |1.000\n",
      "\n"
     ]
    }
   ],
   "source": [
    "zerodata, Uz, Yz,  = pole_zero_directions(G_utils_deadtime, tf_zeros,'z')\n",
    "project_utils.display_export_data(zerodata, 'Zeros             ', rowheading)"
   ]
  },
  {
   "cell_type": "markdown",
   "metadata": {},
   "source": [
    "# 7. RGA & Decentralised Control"
   ]
  },
  {
   "cell_type": "code",
   "execution_count": 20,
   "metadata": {
    "collapsed": true
   },
   "outputs": [],
   "source": [
    "def ssRGA(G):\n",
    "    s = 0\n",
    "    e = 0.00001\n",
    "    \n",
    "    RGA_ss  = utils.RGA(G(s+e))\n",
    "    RGA_no  = utils.RGAnumber(G(s+e), np.eye(G.shape[0], G.shape[1]))\n",
    "\n",
    "    return RGA_ss, RGA_no"
   ]
  },
  {
   "cell_type": "code",
   "execution_count": 21,
   "metadata": {
    "collapsed": false
   },
   "outputs": [
    {
     "name": "stdout",
     "output_type": "stream",
     "text": [
      "The steady state RGA matrix is:\n",
      " [[ 1.-0.j -0.+0.j -0.+0.j -0.+0.j]\n",
      " [ 0.+0.j  1.+0.j  0.+0.j  0.+0.j]\n",
      " [ 0.+0.j  0.+0.j  1.-0.j -0.+0.j]\n",
      " [ 0.+0.j  0.+0.j -0.+0.j  1.-0.j]]\n",
      "\n",
      "Based on this result, it would be recommended that the following inputs and outputs are paired:\n",
      "u1 to control y1\n",
      "u2 to control y2\n",
      "u3 to control y3\n",
      "u4 to control y4\n"
     ]
    }
   ],
   "source": [
    "RGA_ss, RGA_no = ssRGA(G_utils_deadtime)\n",
    "print(\"The steady state RGA matrix is:\\n\", np.matrix.round(RGA_ss))\n",
    "#print(\"\\nThe steady state RGA number is:\\n\", RGA_no)\n",
    "print(\"\\nBased on this result, it would be recommended that the following inputs and outputs are paired:\\nu1 to control y1\\nu2 to control y2\\nu3 to control y3\\nu4 to control y4\")"
   ]
  },
  {
   "cell_type": "markdown",
   "metadata": {},
   "source": [
    "#### Consider RGA across all frequencies incase this pairing changes"
   ]
  },
  {
   "cell_type": "code",
   "execution_count": 22,
   "metadata": {
    "collapsed": true
   },
   "outputs": [],
   "source": [
    "def rga_plot(G, w_start=-2, w_end=2, axlim=None, points=1000, fig=0, plot_type='elements', input_label=None, output_label=None):\n",
    "\n",
    "    s, w, axlim = project_utils.frequency_plot_setup(axlim, w_start, w_end, points)\n",
    "\n",
    "    dim = G.shape \n",
    "    freqresp = [G(si) for si in s]\n",
    "\n",
    "    if (input_label is None) and (output_label is None):\n",
    "        labels = False\n",
    "    elif np.shape(input_label)[0] == np.shape(output_label)[0]:\n",
    "        labels = True\n",
    "    else:\n",
    "        raise ValueError('Input and output label count is not equal')\n",
    "\n",
    "    for i in range(dim[0]):\n",
    "        for j in range(dim[1]):\n",
    "            plt.figure()\n",
    "            if labels:\n",
    "                plt.title('Output (%s) vs. Input (%s)' % (output_label[i], input_label[j]))\n",
    "            else:\n",
    "                plt.title('Output %s vs. Input %s' % (i + 1, j + 1))\n",
    "\n",
    "            plt.semilogx(w, np.array(np.abs(([utils.RGA(Gfr)[i, j] for Gfr in freqresp]))))\n",
    "            plt.axis(axlim)\n",
    "            plt.ylabel('$|\\lambda$$_{%s, %s}|$' % (i + 1, j + 1),fontsize=14)\n",
    "            plt.xlabel('Frequency')\n",
    "    plt.show()"
   ]
  },
  {
   "cell_type": "code",
   "execution_count": 23,
   "metadata": {
    "collapsed": false
   },
   "outputs": [
    {
     "data": {
      "text/plain": [
       "<matplotlib.figure.Figure at 0xaf492e8>"
      ]
     },
     "metadata": {},
     "output_type": "display_data"
    },
    {
     "data": {
      "image/png": "[encoded data removed]",
      "text/plain": [
       "<matplotlib.figure.Figure at 0xc133f60>"
      ]
     },
     "metadata": {},
     "output_type": "display_data"
    },
    {
     "data": {
      "image/png": "[encoded data removed]",
      "text/plain": [
       "<matplotlib.figure.Figure at 0xc25d080>"
      ]
     },
     "metadata": {},
     "output_type": "display_data"
    },
    {
     "data": {
      "image/png": "[encoded data removed]",
      "text/plain": [
       "<matplotlib.figure.Figure at 0xc31fef0>"
      ]
     },
     "metadata": {},
     "output_type": "display_data"
    },
    {
     "data": {
      "image/png": "[encoded data removed]",
      "text/plain": [
       "<matplotlib.figure.Figure at 0xc3667f0>"
      ]
     },
     "metadata": {},
     "output_type": "display_data"
    },
    {
     "data": {
      "image/png": "[encoded data removed]",
      "text/plain": [
       "<matplotlib.figure.Figure at 0xc3a4f60>"
      ]
     },
     "metadata": {},
     "output_type": "display_data"
    },
    {
     "data": {
      "image/png": "[encoded data removed]",
      "text/plain": [
       "<matplotlib.figure.Figure at 0xc3ff860>"
      ]
     },
     "metadata": {},
     "output_type": "display_data"
    },
    {
     "data": {
      "image/png": "[encoded data removed]",
      "text/plain": [
       "<matplotlib.figure.Figure at 0xc440fd0>"
      ]
     },
     "metadata": {},
     "output_type": "display_data"
    },
    {
     "data": {
      "image/png": "[encoded data removed]",
      "text/plain": [
       "<matplotlib.figure.Figure at 0xc49a8d0>"
      ]
     },
     "metadata": {},
     "output_type": "display_data"
    },
    {
     "data": {
      "image/png": "[encoded data removed]",
      "text/plain": [
       "<matplotlib.figure.Figure at 0xc2b50f0>"
      ]
     },
     "metadata": {},
     "output_type": "display_data"
    },
    {
     "data": {
      "image/png": "[encoded data removed]",
      "text/plain": [
       "<matplotlib.figure.Figure at 0xc114da0>"
      ]
     },
     "metadata": {},
     "output_type": "display_data"
    },
    {
     "data": {
      "image/png": "[encoded data removed]",
      "text/plain": [
       "<matplotlib.figure.Figure at 0x9caba90>"
      ]
     },
     "metadata": {},
     "output_type": "display_data"
    },
    {
     "data": {
      "image/png": "[encoded data removed]",
      "text/plain": [
       "<matplotlib.figure.Figure at 0xb08e908>"
      ]
     },
     "metadata": {},
     "output_type": "display_data"
    },
    {
     "data": {
      "image/png": "[encoded data removed]",
      "text/plain": [
       "<matplotlib.figure.Figure at 0xc1e30f0>"
      ]
     },
     "metadata": {},
     "output_type": "display_data"
    },
    {
     "data": {
      "image/png": "[encoded data removed]",
      "text/plain": [
       "<matplotlib.figure.Figure at 0xc1d02b0>"
      ]
     },
     "metadata": {},
     "output_type": "display_data"
    },
    {
     "data": {
      "image/png": "[encoded data removed]",
      "text/plain": [
       "<matplotlib.figure.Figure at 0xae58358>"
      ]
     },
     "metadata": {},
     "output_type": "display_data"
    },
    {
     "data": {
      "image/png": "[encoded data removed]",
      "text/plain": [
       "<matplotlib.figure.Figure at 0xa246898>"
      ]
     },
     "metadata": {},
     "output_type": "display_data"
    }
   ],
   "source": [
    "rga_plot(G_utils_deadtime, axlim = [None, None, -0.5, 1.5], input_label = ['SF','SP','SuFW','RFF'], output_label = ['SL','CFD','SuL','RFD'])"
   ]
  },
  {
   "cell_type": "markdown",
   "metadata": {},
   "source": [
    "Therefore it can be concluded that the suggested input-ouput pairing based on the steady state RGA holds for all frequencies"
   ]
  },
  {
   "cell_type": "markdown",
   "metadata": {},
   "source": [
    "# 8. Singular Values and Condition Number"
   ]
  },
  {
   "cell_type": "code",
   "execution_count": 24,
   "metadata": {
    "collapsed": true
   },
   "outputs": [],
   "source": [
    "def mimo_bode(G, w_start=-2, w_end=2, axlim=None, points=1000, text=False, sv_all=False):\n",
    "\n",
    "    s, w, axlim = project_utils.frequency_plot_setup(axlim, w_start, w_end, points)\n",
    "\n",
    "    dim = np.shape(G)[0]\n",
    "    \n",
    "    crossover = 1\n",
    "    Sv = np.zeros((len(w), dim), dtype=complex)\n",
    "    f = False\n",
    "    wA = 0\n",
    "    for i in range(len(w)):\n",
    "        _,Sv[i, :],_ = utils.SVD(G(s[i]))\n",
    "        if not f:\n",
    "            if Sv[i, -1] < 1:\n",
    "                wA = w[i]\n",
    "                f = True\n",
    "    ymin = np.min(Sv[:, -1])\n",
    "\n",
    "    if not sv_all:\n",
    "        plt.loglog(w, Sv[:, 0], 'b', label=('$\\sigma_{max}(G)$'))\n",
    "        plt.loglog(w, Sv[:, -1], 'g', label=('$\\sigma_{min}(G)$'))\n",
    "        plt.axhline(crossover, ls=':', lw=2, color='r')\n",
    "        plt.axis(axlim)\n",
    "        plt.grid()\n",
    "        plt.xlabel('Frequency [rad/unit time]')\n",
    "        plt.ylabel('$\\sigma$', fontsize = 14)\n",
    "        plt.legend()\n",
    "        \n",
    "    else:\n",
    "        for j in range(dim):\n",
    "            plt.figure()\n",
    "            plt.loglog(w, Sv[:, j], label=('$\\sigma_{%s}(G)$' % (j)))\n",
    "            plt.axis(axlim)\n",
    "            plt.grid()\n",
    "            plt.xlabel('Frequency [rad/unit time]')\n",
    "            plt.ylabel('$\\sigma$',fontsize = 16)\n",
    "            plt.legend()\n",
    "            plt.axhline(crossover, ls=':', lw=2, color='r')\n",
    "            plt.axvline(wA, ls=':', lw=2, color='r')\n",
    "\n",
    "    Bandwidth = wA\n",
    "    \n",
    "    return Bandwidth"
   ]
  },
  {
   "cell_type": "code",
   "execution_count": 25,
   "metadata": {
    "collapsed": false
   },
   "outputs": [
    {
     "name": "stderr",
     "output_type": "stream",
     "text": [
      "C:\\Users\\marcelledk\\AppData\\Local\\Continuum\\Anaconda3\\lib\\site-packages\\numpy\\core\\numeric.py:474: ComplexWarning: Casting complex values to real discards the imaginary part\n",
      "  return array(a, dtype, copy=False, order=order)\n"
     ]
    },
    {
     "data": {
      "image/png": "[encoded data removed]",
      "text/plain": [
       "<matplotlib.figure.Figure at 0xc44b048>"
      ]
     },
     "metadata": {},
     "output_type": "display_data"
    }
   ],
   "source": [
    "wC = mimo_bode(G_utils_deadtime, w_start = -4, text = True, sv_all=False)\n",
    "if wC > 10**(-4):\n",
    "    print(\"The cossover frequency is:\",wC)"
   ]
  },
  {
   "cell_type": "markdown",
   "metadata": {},
   "source": [
    "### Input & Output directions of Singular Values"
   ]
  },
  {
   "cell_type": "code",
   "execution_count": 26,
   "metadata": {
    "collapsed": true
   },
   "outputs": [],
   "source": [
    "def sv_dir_ss(G, table=False, all_dir = False):\n",
    "\n",
    "    s = 0\n",
    "    e = 0.000001\n",
    "    U, Sv, V = utils.SVD(G(s+e))\n",
    "\n",
    "    u = [U[:, 0]] + [U[:, -1]]\n",
    "    v = [V[:, 0]] + [V[:, -1]]\n",
    "    \n",
    "    if not all_dir:\n",
    "        if table:\n",
    "            Headings = ['Maximum', 'Minimum']\n",
    "            for i in range(2):\n",
    "                print(' ')\n",
    "                print('Directions of %s SV' % Headings[i])\n",
    "                print('-' * 24)\n",
    "\n",
    "                print('Output vector')\n",
    "                for k in range(len(u[i])):\n",
    "                    if np.round(u[i][k].real,5) == 0:\n",
    "                        if u[i][k].imag < 0:\n",
    "                            print('%.5fi' % u[i][k].imag)\n",
    "                        else:\n",
    "                            print(' %.5fi' % u[i][k].imag)\n",
    "                    elif np.round(u[i][k].imag,5) == 0:\n",
    "                        if u[i][k].real < 0:\n",
    "                            print('%.5f' % u[i][k].real)\n",
    "                        else:\n",
    "                            print(' %.5f' % u[i][k].real)\n",
    "                    else:\n",
    "                        print('%.5f %+.5fi' % (u[i][k].real, u[i][k].imag))\n",
    "                print('Input vector')\n",
    "                for k in range(len(v[i])):\n",
    "                    if np.round(v[i][k].real,5) == 0:\n",
    "                        if v[i][k].imag < 0:\n",
    "                            print('%.5fi' % v[i][k].imag)\n",
    "                        else:\n",
    "                            print(' %.5fi' % v[i][k].imag)\n",
    "\n",
    "                    elif np.round(v[i][k].imag,5) == 0:\n",
    "                        if v[i][k].real < 0:\n",
    "                            print('%.5f' % v[i][k].real)\n",
    "                        else:\n",
    "                            print(' %.5f' % v[i][k].real)\n",
    "                    else:\n",
    "                        print('%.5f %+.5fi' % (v[i][k].real, v[i][k].imag))\n",
    "\n",
    "                print(' ')\n",
    "    else:\n",
    "        sv = (project_utils.round_complex_no(np.eye(len(Sv))*Sv))\n",
    "        in_vec = project_utils.round_complex_no(V)\n",
    "        out_vec = project_utils.round_complex_no(U)\n",
    "        print(\"The steady state singular values are:\\n\",np.matrix.round(sv))\n",
    "        print(\"Input vector\\n\",np.matrix.round(in_vec,2))\n",
    "        print(\"Output vector\\n\",np.matrix.round(out_vec,2))\n",
    "\n",
    "    return u, v"
   ]
  },
  {
   "cell_type": "code",
   "execution_count": 27,
   "metadata": {
    "collapsed": false
   },
   "outputs": [
    {
     "name": "stdout",
     "output_type": "stream",
     "text": [
      "The steady state singular values are:\n",
      " [[ 24860.+0.j      0.+0.j      0.+0.j      0.+0.j]\n",
      " [     0.+0.j   8993.+0.j      0.+0.j      0.+0.j]\n",
      " [     0.+0.j      0.+0.j   3056.+0.j      0.+0.j]\n",
      " [     0.+0.j      0.+0.j      0.+0.j      0.+0.j]]\n",
      "Input vector\n",
      " [[ 0.20-0.j -1.00-0.j  0.02-0.j -0.00-0.j]\n",
      " [-1.00-0.j -0.20-0.j  0.00-0.j -0.00-0.j]\n",
      " [-0.00-0.j  0.02-0.j  1.00-0.j -0.20-0.j]\n",
      " [ 0.00-0.j -0.00-0.j -0.20-0.j -1.00-0.j]]\n",
      "Output vector\n",
      " [[-0.50+0.j  0.90+0.j -0.00+0.j  0.00+0.j]\n",
      " [-0.40+0.j -0.20+0.j  0.01+0.j -0.90+0.j]\n",
      " [ 0.00+0.j -0.00+0.j -1.00+0.j  0.00+0.j]\n",
      " [-0.80+0.j -0.40+0.j  0.02+0.j  0.40+0.j]]\n"
     ]
    }
   ],
   "source": [
    "u,v = sv_dir_ss(G_utils_deadtime,table=True,all_dir = True)"
   ]
  },
  {
   "cell_type": "markdown",
   "metadata": {},
   "source": [
    "### Condition Number"
   ]
  },
  {
   "cell_type": "code",
   "execution_count": 28,
   "metadata": {
    "collapsed": true
   },
   "outputs": [],
   "source": [
    "def condtn_nm_plot(G, w_start=-2, w_end=2, axlim=None, points=1000):\n",
    "\n",
    "    s, w, axlim = project_utils.frequency_plot_setup(axlim, w_start, w_end, points)\n",
    "\n",
    "    def cndtn_nm(G):\n",
    "        return utils.sigmas(G)[0]/utils.sigmas(G)[-1]\n",
    "\n",
    "    freqresp = [G(si) for si in s]\n",
    "    CondNum = [cndtn_nm(Gfr) for Gfr in freqresp]\n",
    "    plt.loglog(w, CondNum , label='$\\gamma (G)$')\n",
    "    plt.axis(axlim)\n",
    "    plt.ylabel('$\\gamma (G)$',fontsize=14)\n",
    "    plt.xlabel('Frequency [rad/s]',fontsize=12)\n",
    "    plt.axhline(10., color='red', ls='--', label='\"Large\" $\\gamma (G) = 10$')\n",
    "    plt.legend(bbox_to_anchor=(1.05, 0.6), loc=2, mode = 'expanded',borderaxespad=0.)\n",
    "    \n",
    "    return CondNum"
   ]
  },
  {
   "cell_type": "code",
   "execution_count": 29,
   "metadata": {
    "collapsed": false
   },
   "outputs": [
    {
     "data": {
      "image/png": "[encoded data removed]",
      "text/plain": [
       "<matplotlib.figure.Figure at 0xdb93f28>"
      ]
     },
     "metadata": {},
     "output_type": "display_data"
    }
   ],
   "source": [
    "CondNum = condtn_nm_plot(G_utils_deadtime, axlim= [None, None, 10**0, 10**4])"
   ]
  },
  {
   "cell_type": "code",
   "execution_count": 30,
   "metadata": {
    "collapsed": false
   },
   "outputs": [],
   "source": [
    "def objective(x,G_hat_square_s):\n",
    "    e_hat_max = np.array([x[0],x[1],x[2],x[3]])\n",
    "    De = np.diag(e_hat_max)\n",
    "    D1 = nplinalg.inv(De)\n",
    "    u_hat_max = np.array([x[4],x[5],x[6],x[7]])\n",
    "    D2 = np.diag(u_hat_max)\n",
    "    G = D1*G_hat_square_s*D2\n",
    "    Sv = utils.sigmas(G)\n",
    "    minSv = Sv[-1]\n",
    "    maxSv = Sv[0]\n",
    "    return maxSv/minSv\n",
    "\n",
    "def opt_condtn_nm(G_utils_deadtime,CondNum,scaling_bounds = None):\n",
    "    omega = np.logspace(-4, 2, 1000)\n",
    "    min_cond_num = np.zeros((len(omega),1))\n",
    "    opt_scaling = np.zeros((len(omega),8))\n",
    "    for w in range(len(omega)):\n",
    "        if scaling_bounds is None:\n",
    "            opt = minimize(objective, [20, 0.3, 25, 0.13, 450, 25, 200, 1000], args = (G_utils_deadtime(1j*omega[w])))\n",
    "        else:\n",
    "            opt = minimize(objective, [20, 0.3, 25, 0.13, 450, 25, 200, 1000], args = (G_utils_deadtime(1j*omega[w])), bounds = scaling_bounds)\n",
    "\n",
    "        min_cond_num[w] = opt.fun\n",
    "        opt_scaling[w,:] = opt.x\n",
    "        \n",
    "    return min_cond_num, opt_scaling"
   ]
  },
  {
   "cell_type": "code",
   "execution_count": null,
   "metadata": {
    "collapsed": false
   },
   "outputs": [],
   "source": [
    "min_cond_num, opt_scaling = opt_condtn_nm(G_utils_deadtime,CondNum)"
   ]
  },
  {
   "cell_type": "code",
   "execution_count": null,
   "metadata": {
    "collapsed": false
   },
   "outputs": [],
   "source": [
    "omega = np.logspace(-4, 2, 1000)\n",
    "plt.figure()    \n",
    "plt.loglog(omega,min_cond_num, label='Optimised Condition Number')\n",
    "plt.loglog(omega,CondNum,color='red', ls='--',label='Original Condition Number')\n",
    "plt.xlabel('Frequency [rad/s]')\n",
    "plt.ylabel('Condition Number')\n",
    "plt.legend(bbox_to_anchor=(1.05, 0.6), loc=2, mode = 'expanded',borderaxespad=0.)\n",
    "\n",
    "\n",
    "original_scaling = [20, 0.3, 25, 0.13, 450, 25, 200, 1000]\n",
    "var = ['SL','CFD','SuL','RFD','SF','SP','SuFW','RFF']\n",
    "for i in range(opt_scaling.shape[1]):\n",
    "    plt.figure()\n",
    "    plt.semilogx(omega,opt_scaling[:,i],label = 'Optimised Scaling' )\n",
    "    plt.axhline(original_scaling[i],color='red', ls='--',label='Original Scaling')\n",
    "    plt.xlabel('Frequency [rad/s]')\n",
    "    plt.ylabel(var[i])\n",
    "    plt.legend(bbox_to_anchor=(1.05, 0.6), loc=2, mode = 'expanded',borderaxespad=0.)\n"
   ]
  },
  {
   "cell_type": "code",
   "execution_count": null,
   "metadata": {
    "collapsed": false
   },
   "outputs": [],
   "source": [
    "min_cond_num, opt_scaling = opt_condtn_nm(G_utils_deadtime,CondNum,scaling_bounds = [[None,100],[None,None],[None,100],[None,None],[None,None],[None,100],[None,None],[None,None]])"
   ]
  },
  {
   "cell_type": "code",
   "execution_count": null,
   "metadata": {
    "collapsed": false
   },
   "outputs": [],
   "source": [
    "plt.figure()    \n",
    "plt.loglog(omega,min_cond_num, label='Optimised Condition Number')\n",
    "plt.loglog(omega,CondNum,color='red', ls='--',label='Original Condition Number')\n",
    "plt.xlabel('Frequency [rad/s]')\n",
    "plt.ylabel('Condition Number')\n",
    "plt.legend(bbox_to_anchor=(1.05, 0.6), loc=2, mode = 'expanded',borderaxespad=0.)\n",
    "\n",
    "\n",
    "original_scaling = [20, 0.3, 25, 0.13, 450, 25, 200, 1000]\n",
    "var = ['SL','CFD','SuL','RFD','SF','SP','SuFW','RFF']\n",
    "for i in range(opt_scaling.shape[1]):\n",
    "    plt.figure()\n",
    "    plt.semilogx(omega,opt_scaling[:,i],label = 'Optimised Scaling' )\n",
    "    plt.axhline(original_scaling[i],color='red', ls='--',label='Original Scaling')\n",
    "    plt.xlabel('Frequency [rad/s]')\n",
    "    plt.ylabel(var[i])\n",
    "    plt.legend(bbox_to_anchor=(1.05, 0.6), loc=2, mode = 'expanded',borderaxespad=0.)"
   ]
  },
  {
   "cell_type": "markdown",
   "metadata": {},
   "source": [
    "# 10. Disturbance Limitations on Sensitivity Function"
   ]
  },
  {
   "cell_type": "code",
   "execution_count": 31,
   "metadata": {
    "collapsed": false
   },
   "outputs": [],
   "source": [
    "def distRej(G, Gd, w_start=-2, w_end=2, points=1000):\n",
    "\n",
    "    freq        = np.logspace(w_start,w_end,points)\n",
    "    gd          = np.zeros((len(freq),Gd.shape[1]))\n",
    "    yd          = np.zeros((len(freq), Gd.shape[0], Gd.shape[1]), dtype=complex)\n",
    "    distCondNum = np.zeros((len(freq),Gd.shape[1]))\n",
    "    freq_min    = np.zeros((1,Gd.shape[1]))\n",
    "    freq_max    = np.zeros((1,Gd.shape[1]))\n",
    "    yd_min    = np.zeros((Gd.shape[0],Gd.shape[1]),dtype=complex)\n",
    "    yd_max    = np.zeros((Gd.shape[0],Gd.shape[1]),dtype=complex)\n",
    "    \n",
    "    def func_gd(Gd):\n",
    "        return 1 / np.linalg.norm(Gd, 2)\n",
    "    def func_yd(gd,Gd):\n",
    "        return gd * Gd \n",
    "    wd = np.zeros((Gd.shape[1]))\n",
    "    for cols in range(Gd.shape[1]):\n",
    "        gd1 = False\n",
    "        for i in range(len(freq)):\n",
    "            gd[i,cols] =  func_gd(Gd(1j*freq[i])[:,cols])\n",
    "            yd[i, :, cols:cols+1] = func_yd(gd[i,cols],Gd(1j*freq[i])[:,cols])  \n",
    "            _,sv1,_ = (utils.SVD(G(1j*freq[i])))\n",
    "            _,sv2,_ = utils.SVD(np.linalg.inv(G(1j*freq[i])) * yd[i,:,cols:cols+1])\n",
    "            distCondNum[i,cols] =  max(sv1) * max(sv2)\n",
    "            if not gd1 and gd[i,cols] >= 1:\n",
    "                wd[cols] = freq[i]\n",
    "                gd1 = True\n",
    "    \n",
    "        freq_min[cols] = freq[list(distCondNum[:,cols]).index(min(distCondNum[:,cols]))]\n",
    "        freq_max[cols] = freq[list(distCondNum[:,cols]).index(max(distCondNum[:,cols]))]\n",
    "        gd_min         = func_gd(Gd(freq_min[cols])[:,cols])\n",
    "        gd_max         = func_gd(Gd(freq_max[cols])[:,cols])\n",
    "        yd_min[:,cols:cols+1]   = func_yd(gd_min,Gd(freq_min[cols])[:,cols])\n",
    "        yd_max[:,cols:cols+1]   = func_yd(gd_max,Gd(freq_max[cols])[:,cols])\n",
    "            \n",
    "    gd_min = gd.min(axis=1)\n",
    "\n",
    "    return gd_min, yd, yd_min, yd_max, distCondNum, wd\n",
    "\n",
    "def dis_rejctn_plot(G, Gd, CondNum, w_start=-2, w_end=2, axlim=None, points=1000):\n",
    "\n",
    "    s, w, axlim = project_utils.frequency_plot_setup(axlim, w_start, w_end, points)\n",
    "\n",
    "    dim = np.shape(Gd)[1] \n",
    "    \n",
    "    gd_min, yd, yd_min, yd_max, condtn_nm_gd, wd = distRej(G, Gd)\n",
    "\n",
    "    # Equation 6.43\n",
    "    plt.figure()\n",
    "    fmin = False\n",
    "    for i in range(dim):\n",
    "        plt.loglog(w, condtn_nm_gd[:,i], label=('$\\gamma_{d%s} (G)$' % (i+1)))\n",
    "        \n",
    "    plt.axis(axlim)\n",
    "    plt.xlabel('Frequency [rad/s]',fontsize=12)\n",
    "    plt.ylabel('$\\gamma$$_d (G)$',fontsize=14)\n",
    "    plt.axhline(1., color='red', ls=':', label = ('Good disturbance direction'))\n",
    "    plt.loglog(w,CondNum, color='red',ls='--', label=('Condition number = bad  direction'))\n",
    "    plt.legend(loc=2,prop={'size':11})\n",
    "\n",
    "    # Equation 6.44\n",
    "    plt.figure()\n",
    "    plt.loglog(w, gd_min, label=('$1/||g_{d%s}||_2$' % (i+1)))\n",
    "    plt.axis(axlim)\n",
    "    plt.axhline(1, color = 'red')\n",
    "    plt.axvline(wd, color = 'red')\n",
    "    plt.xlabel('Frequency [rad/s]',fontsize=12)\n",
    "    plt.ylabel('$||Sy_d||_2$',fontsize=14)\n",
    "    plt.legend(bbox_to_anchor=(1.05, 0.6), loc=2, mode = 'expanded',borderaxespad=0.)\n"
   ]
  },
  {
   "cell_type": "code",
   "execution_count": 32,
   "metadata": {
    "collapsed": false
   },
   "outputs": [
    {
     "data": {
      "text/plain": [
       "<matplotlib.figure.Figure at 0xafbf518>"
      ]
     },
     "metadata": {},
     "output_type": "display_data"
    },
    {
     "data": {
      "image/png": "[encoded data removed]",
      "text/plain": [
       "<matplotlib.figure.Figure at 0xd913b00>"
      ]
     },
     "metadata": {},
     "output_type": "display_data"
    },
    {
     "data": {
      "image/png": "[encoded data removed]",
      "text/plain": [
       "<matplotlib.figure.Figure at 0xa035400>"
      ]
     },
     "metadata": {},
     "output_type": "display_data"
    }
   ],
   "source": [
    "gd_min, yd, yd_min, yd_max, condtn_nm_gd, wd  = distRej(G_utils_deadtime, Gd_utils_deadtime)\n",
    "dis_rejctn_plot(G_utils_deadtime, Gd_utils_deadtime, CondNum, axlim = [None, None, 10**-1, 10**4])"
   ]
  },
  {
   "cell_type": "code",
   "execution_count": 33,
   "metadata": {
    "collapsed": true
   },
   "outputs": [],
   "source": [
    "def distRHPZ(Gd, RHP_Z, Yz):\n",
    "\n",
    "    if np.real(RHP_Z) < 0:\n",
    "        raise ValueError('Function only applicable to RHP-zeros')\n",
    "\n",
    "    Dist_RHPZ_all = np.zeros((len(RHP_Z),Gd.shape[1]))\n",
    "    Dist_RHPZ     = np.zeros((1,len(RHP_Z)))\n",
    "\n",
    "    e = 0.00001\n",
    "    \n",
    "    for z in range(len(RHP_Z)):\n",
    "        for cols in range(Gd.shape[1]):\n",
    "            Dist_RHPZ_all[z,cols] = np.abs(Yz[:,z].H * Gd(RHP_Z[z]+e)[:,cols])\n",
    "        Dist_RHPZ[0,z] = max(Dist_RHPZ_all[z,:])\n",
    "\n",
    "    return Dist_RHPZ"
   ]
  },
  {
   "cell_type": "code",
   "execution_count": 34,
   "metadata": {
    "collapsed": false
   },
   "outputs": [
    {
     "name": "stdout",
     "output_type": "stream",
     "text": [
      "The system has no RHP zeros, therefore this criteria cannot be assessed.\n"
     ]
    }
   ],
   "source": [
    "#Dist_RHPZ = distRHPZ(Gd_utils_deadtime, RHPzeros, Yz)\n",
    "#print('Test to see if disturbances are aligned with plant zeros\\nDesired: |yz*Gd(z)| < 1\\nActual:  |yz*Gd(z)| = %.2f' %Dist_RHPZ)\n",
    "#print(\"\\nTherefore, the disturbances are not aligned with the plant zeros and control should therefore be possible\")\n",
    "print(\"The system has no RHP zeros, therefore this criteria cannot be assessed.\")"
   ]
  },
  {
   "cell_type": "markdown",
   "metadata": {},
   "source": [
    "# 11. Disturbance and Input Saturation"
   ]
  },
  {
   "cell_type": "markdown",
   "metadata": {},
   "source": [
    "### Test for Perfect Control"
   ]
  },
  {
   "cell_type": "code",
   "execution_count": 35,
   "metadata": {
    "collapsed": true
   },
   "outputs": [],
   "source": [
    "def input_perfect_control(G, Gd, w_start=-2, w_end=2, points=1000, axlim=None):\n",
    "    \n",
    "    s, w, axlim = project_utils.frequency_plot_setup(axlim, w_start, w_end, points)\n",
    "\n",
    "    vec   = np.zeros((len(w),G.shape[1],Gd.shape[1]))\n",
    "    minSv = np.zeros((1,len(w)))\n",
    "\n",
    "    #for cols in range(Gd.shape[1]):\n",
    "    for i in range(len(w)):\n",
    "        vec[i,:,:] = max(np.linalg.norm(np.linalg.pinv(G(1j*w[i])) * Gd(1j*w[i])),2)\n",
    "        _,Sv,_ = utils.SVD(G(1j*w[i]))\n",
    "        minSv[0,i] = min(Sv)\n",
    "\n",
    "    plt.figure()    \n",
    "    for col in range(Gd.shape[1]):\n",
    "        for row in range(G.shape[1]):\n",
    "            plt.loglog(w, vec[:,row,col],label=('$G^{-1} * Gd  [%s, %s]$' % (row+1,col+1)))\n",
    "    plt.ylabel('$G^{-1} * Gd$', fontsize=14)\n",
    "    plt.xlabel('Frequency [rad/s]')\n",
    "    plt.grid(True)\n",
    "    plt.axis(axlim)\n",
    "    plt.legend()\n",
    "\n",
    "    plt.figure()\n",
    "    plt.semilogx(w,minSv[0,:])\n",
    "    plt.ylabel('$\\sigma_{min}(G(j\\omega))$', fontsize=14)\n",
    "    plt.xlabel('Frequency [rad/s]')\n",
    "    plt.grid(True)\n",
    "    plt.axis([10**w_start, 10**w_end, -0.01, 0.3])\n"
   ]
  },
  {
   "cell_type": "code",
   "execution_count": 36,
   "metadata": {
    "collapsed": false
   },
   "outputs": [
    {
     "name": "stdout",
     "output_type": "stream",
     "text": [
      "Perfect control (e=0) is not possible, because the minimum singular value remains < 1 for most frequencies\n",
      "and all elements of the G^-1 * Gd matrix are > 1 across the inverstigated frequency range\n"
     ]
    },
    {
     "data": {
      "text/plain": [
       "<matplotlib.figure.Figure at 0xdc22358>"
      ]
     },
     "metadata": {},
     "output_type": "display_data"
    },
    {
     "data": {
      "image/png": "[encoded data removed]",
      "text/plain": [
       "<matplotlib.figure.Figure at 0xb0151d0>"
      ]
     },
     "metadata": {},
     "output_type": "display_data"
    },
    {
     "data": {
      "image/png": "[encoded data removed]",
      "text/plain": [
       "<matplotlib.figure.Figure at 0xd9dd080>"
      ]
     },
     "metadata": {},
     "output_type": "display_data"
    }
   ],
   "source": [
    "input_perfect_control(G_utils_deadtime, Gd_utils_deadtime, w_start = -4)\n",
    "print(\"Perfect control (e=0) is not possible, because the minimum singular value remains < 1 for most frequencies\\nand all elements of the G^-1 * Gd matrix are > 1 across the inverstigated frequency range\")"
   ]
  },
  {
   "cell_type": "markdown",
   "metadata": {},
   "source": [
    "### Test for Acceptable Control"
   ]
  },
  {
   "cell_type": "code",
   "execution_count": 37,
   "metadata": {
    "collapsed": true
   },
   "outputs": [],
   "source": [
    "def input_acceptable_const_plot(G, Gd, w_start=-2, w_end=2, axlim=None, points=1000, modified=False):\n",
    "\n",
    "    s, w, axlim = project_utils.frequency_plot_setup(axlim, w_start, w_end, points)\n",
    "\n",
    "    freqresp = [G(si) for si in s]\n",
    "    sig = np.array([utils.sigmas(Gfr) for Gfr in freqresp])\n",
    "    one = np.ones(points)\n",
    "\n",
    "    dimGd = np.shape(Gd)[1]\n",
    "    dimG  = np.shape(G)[0]\n",
    "    \n",
    "    acceptable_control = np.zeros((points, dimG, dimGd))\n",
    "    \n",
    "    for j in range(dimGd):\n",
    "        for i in range(dimG):\n",
    "            for k in range(points):\n",
    "                U, _, _ = utils.SVD(G(s[k]))\n",
    "                acceptable_control[k, i, j] = np.abs(U[:, i].H * Gd(s[k])[:, j])\n",
    "            plt.figure()\n",
    "            if any(ugd < 1 for ugd in acceptable_control[:,i,j]): modified = True\n",
    "            if not modified:\n",
    "                plt.loglog(w, sig[:, i], label=('$\\sigma_%s$' % (i + 1)))\n",
    "                plt.loglog(w, acceptable_control[:, i, j] - one, label=('$|u_%s^H.g_{d%s}|-1$' % (i + 1, j + 1)))\n",
    "            else:\n",
    "                plt.loglog(w, sig[:, i] + one, label=('$\\sigma_%s+1$' % (i + 1)))\n",
    "                plt.loglog(w, acceptable_control[:, i, j], label=('$|u_%s^H.g_{d%s}|$' % (i + 1, j + 1)))\n",
    "                plt.axhline(1., color='red', ls=':',label='Applicable', lw = 4)\n",
    "            \n",
    "            plt.xlabel('Frequency [rad/s]')\n",
    "            plt.grid(True)\n",
    "            plt.axis(axlim)\n",
    "            plt.legend()\n"
   ]
  },
  {
   "cell_type": "code",
   "execution_count": 38,
   "metadata": {
    "collapsed": false
   },
   "outputs": [
    {
     "name": "stdout",
     "output_type": "stream",
     "text": [
      "By inspection of the figures illustrating the condition necessary for acceptable control, it can be concluded that:\n",
      "Acceptable control is only achievable at low frequencies up to approximately 0.005 Hz\n"
     ]
    },
    {
     "data": {
      "text/plain": [
       "<matplotlib.figure.Figure at 0xc212f28>"
      ]
     },
     "metadata": {},
     "output_type": "display_data"
    },
    {
     "data": {
      "image/png": "[encoded data removed]",
      "text/plain": [
       "<matplotlib.figure.Figure at 0xadb22b0>"
      ]
     },
     "metadata": {},
     "output_type": "display_data"
    },
    {
     "data": {
      "image/png": "[encoded data removed]",
      "text/plain": [
       "<matplotlib.figure.Figure at 0xadf6828>"
      ]
     },
     "metadata": {},
     "output_type": "display_data"
    },
    {
     "data": {
      "image/png": "[encoded data removed]",
      "text/plain": [
       "<matplotlib.figure.Figure at 0xc11def0>"
      ]
     },
     "metadata": {},
     "output_type": "display_data"
    },
    {
     "data": {
      "image/png": "[encoded data removed]",
      "text/plain": [
       "<matplotlib.figure.Figure at 0xc19bf28>"
      ]
     },
     "metadata": {},
     "output_type": "display_data"
    }
   ],
   "source": [
    "input_acceptable_const_plot(G_utils_deadtime, Gd_utils_deadtime, w_start = -4, modified=True)\n",
    "print(\"By inspection of the figures illustrating the condition necessary for acceptable control, it can be concluded that:\\nAcceptable control is only achievable at low frequencies up to approximately 0.005 Hz\")"
   ]
  },
  {
   "cell_type": "markdown",
   "metadata": {
    "collapsed": false
   },
   "source": [
    "# 12. Closed-Loop Transfer Function Bounds"
   ]
  },
  {
   "cell_type": "markdown",
   "metadata": {},
   "source": [
    "### factorise as  'minimum-phase, stable' version of system"
   ]
  },
  {
   "cell_type": "code",
   "execution_count": 39,
   "metadata": {
    "collapsed": true
   },
   "outputs": [],
   "source": [
    "def sens_and_complsens_peaks(poles, pole_dir, zeros, zero_dir, deadtime=None):\n",
    "    \n",
    "    Np = len(poles)\n",
    "    Nz = len(zeros)\n",
    "    \n",
    "    Qz  = np.zeros((Nz,Nz),dtype=complex)\n",
    "    for i in range(Nz):\n",
    "        for j in range(Nz):\n",
    "            if zeros[i] == 0 and zeros[j] == 0:\n",
    "                Qz[i,j] = np.array([1])\n",
    "            elif (zeros[i] + np.conjugate(zeros[j])) == 0:\n",
    "                Qz[i,j] = (zero_dir[:,i].H * zero_dir[:,j])\n",
    "            else:\n",
    "                Qz[i,j] = (zero_dir[:,i].H * zero_dir[:,j]) / (zeros[i] + np.conjugate(zeros[j]))\n",
    "\n",
    "    Qp  = np.zeros((Np,Np),dtype=complex)\n",
    "    for i in range(Np):\n",
    "        for j in range(Np):\n",
    "            if poles[i] == 0 and poles[j] == 0:\n",
    "                Qp[i,j] = np.array([1])\n",
    "            elif (poles[i] + np.conjugate(poles[j])) == 0:\n",
    "                c = pole_dir[:,i].H * pole_dir[:,j]\n",
    "                Qp[i,j] = (pole_dir[:,i].H * pole_dir[:,j])[0,0]\n",
    "            else:\n",
    "                Qp[i,j] = ((pole_dir[:,i].H * pole_dir[:,j]) / (np.conjugate(poles[i]) + poles[j]))[0,0]\n",
    "\n",
    "    Qzp = np.zeros((Nz,Np),dtype=complex)\n",
    "    for i in range(Nz):\n",
    "        for j in range(Np):\n",
    "            if poles[j] == 0 and zeros[i] == 0:\n",
    "                Qzp[i,j] = np.array([1])\n",
    "            elif (zeros[i] - poles[j]) == 0:\n",
    "                Qzp[i,j] = (zero_dir[:,i].H * pole_dir[:,j])[0,0]\n",
    "            else:\n",
    "                Qzp[i,j] = ((zero_dir[:,i].H * pole_dir[:,j]) / (zeros[i] - poles[j]))[0,0]\n",
    "\n",
    "\n",
    "    if deadtime is None:\n",
    "        pre_mat = scplinalg.sqrtm((nplinalg.inv(Qz))).dot(Qzp).dot(scplinalg.sqrtm(nplinalg.inv(Qp)))\n",
    "        Ms_min = np.sqrt(1 + (np.max(nplinalg.svd(pre_mat,compute_uv=False))) ** 2)\n",
    "\n",
    "    else:\n",
    "        dead_time_vec_max_row = np.zeros(deadtime.shape[0])\n",
    "        for i in range(deadtime.shape[0]):\n",
    "            dead_time_vec_max_row[i] = np.max(deadtime[i,:])\n",
    "            \n",
    "        def Dead_time_matrix(s, dead_time_vec_max_row):\n",
    "            dead_time_matrix = np.diag(np.exp(np.multiply(dead_time_vec_max_row, s)))\n",
    "            return dead_time_matrix\n",
    "\n",
    "        Q_dead = np.zeros((Np,Np),dtype=complex)\n",
    "        for i in range(Np):\n",
    "            for j in range(Np):\n",
    "                numerator_mat = (pole_dir[:, i].H * Dead_time_matrix(np.conjugate(poles[i]), dead_time_vec_max_row) * \\\n",
    "                                   Dead_time_matrix(poles[j], dead_time_vec_max_row) * pole_dir[:, j])\n",
    "                denominator_mat = np.conjugate(poles[i]) + poles[j]\n",
    "                if denominator_mat == 0:\n",
    "                    Q_dead[i,j] = numerator_mat[0,0]\n",
    "                else:\n",
    "                    Q_dead[i,j] = numerator_mat[0,0] / denominator_mat\n",
    "        \n",
    "        lambda_mat = sclinalg.sqrtm(nplinalg.pinv(Q_dead)).dot(Qp + (np.asmatrix(Qzp).H).dot(nplinalg.pinv(Qz)).dot(Qzp))\\\n",
    "                                                            .dot(sclinalg.sqrtm(nplinalg.pinv(Q_dead)))\n",
    "\n",
    "        Ms_min = float(np.real(np.max(nplinalg.eig(lambda_mat)[0])))\n",
    "        \n",
    "    return Ms_min\n",
    "\n",
    "\n",
    "def BoundST(poles, Yp, zeros, Yz, deadtime=None):\n",
    "\n",
    "    Ms_min = sens_and_complsens_peaks(poles, Yp, zeros, Yz, deadtime=deadtime)\n",
    "    \n",
    "    return Ms_min"
   ]
  },
  {
   "cell_type": "markdown",
   "metadata": {
    "collapsed": true
   },
   "source": [
    "#### Bound on peak of Complementary Sensitivity function T"
   ]
  },
  {
   "cell_type": "code",
   "execution_count": null,
   "metadata": {
    "collapsed": false
   },
   "outputs": [],
   "source": [
    "#Ms_min = BoundST(RHPpoles, Yp, RHPzeros, Yz, deadtime=G_theta_square)\n",
    "#print(\"The minimum peak achievable for the Complementary Sensitivity (T) function given a system with deadtime is:\\n||T|| >= %.2f\" % Ms_min)"
   ]
  },
  {
   "cell_type": "markdown",
   "metadata": {},
   "source": [
    "#### Bound on peak of Sensitivity function S"
   ]
  },
  {
   "cell_type": "code",
   "execution_count": null,
   "metadata": {
    "collapsed": false
   },
   "outputs": [],
   "source": [
    "#print(\"For the system given deadtime, the Sensitivtiy function's minimum peak is bounded by:\\n%.2f <= M_S,min <= %.2f\" % (Ms_min-1, Ms_min+1))"
   ]
  },
  {
   "cell_type": "markdown",
   "metadata": {},
   "source": [
    "#### Bound on peak of input Complementary Sensitivity  Ti"
   ]
  },
  {
   "cell_type": "code",
   "execution_count": 40,
   "metadata": {
    "collapsed": true
   },
   "outputs": [],
   "source": [
    "def BoundSi(poles, Up, zeros, Uz, deadtime=None):\n",
    "    Ms_min = sens_and_complsens_peaks(poles, Up, zeros, Uz, deadtime=deadtime)\n",
    "    return Ms_min"
   ]
  },
  {
   "cell_type": "code",
   "execution_count": null,
   "metadata": {
    "collapsed": false
   },
   "outputs": [],
   "source": [
    "#Si_peak = BoundSi(RHPpoles, Up, RHPzeros, Uz, deadtime=G_deadtime_square)\n",
    "#print(\"The minimum peak achievabgle for the input complementary sensitivity (Ti) function iven a system with deadtime is:\\nM_Ti,min = %.2f\" %Si_peak)"
   ]
  },
  {
   "cell_type": "markdown",
   "metadata": {},
   "source": [
    "#### Bound on peak of input Sensitivity function Si"
   ]
  },
  {
   "cell_type": "code",
   "execution_count": null,
   "metadata": {
    "collapsed": false
   },
   "outputs": [],
   "source": [
    "#print(\"For the system given deadtime, the input Sensitivtiy function's minimum peak is bounded by:\\n%.2f <= M_Si,min <= %.2f\" % (Si_peak-1, Si_peak+1))"
   ]
  },
  {
   "cell_type": "markdown",
   "metadata": {},
   "source": [
    "#### Bound on peak of KS"
   ]
  },
  {
   "cell_type": "code",
   "execution_count": 41,
   "metadata": {
    "collapsed": false
   },
   "outputs": [],
   "source": [
    "def BoundKSG(G, poles, Up, Yp, e=0.00001, Gd_ms = None):\n",
    "    \n",
    "    if Gd_ms == None:\n",
    "        KSG = []\n",
    "        Grows, Gcols = G.shape\n",
    "        for i in range(len(poles)):\n",
    "            KSG.append(nplinalg.norm(Up[:,i].H * nplinalg.pinv(G(poles[i]+e)), 2))\n",
    "        KS_max  = np.max(KSG)\n",
    "    else:\n",
    "        KSGd = []\n",
    "        for i in range(len(poles)):\n",
    "            KSGd.append(np.abs(Up[:,i].H * nplinalg.pinv(G(poles[i] + e)) * Gd_ms(poles[i] + e)))\n",
    "        KS_max   = np.max(KSGd)\n",
    "\n",
    "    return KS_max"
   ]
  },
  {
   "cell_type": "code",
   "execution_count": 42,
   "metadata": {
    "collapsed": false
   },
   "outputs": [
    {
     "name": "stdout",
     "output_type": "stream",
     "text": [
      "The bound on the peak of KS is such that\n",
      "||KS|| >= 3.84\n"
     ]
    }
   ],
   "source": [
    "KSmax = BoundKSG(G_utils, RHPpoles, Up, Yp)\n",
    "print(\"The bound on the peak of KS is such that\\n||KS|| >= %.2f\" %KSmax)"
   ]
  },
  {
   "cell_type": "markdown",
   "metadata": {},
   "source": [
    "#### Bound on peak of KSGd"
   ]
  },
  {
   "cell_type": "code",
   "execution_count": 43,
   "metadata": {
    "collapsed": false
   },
   "outputs": [
    {
     "name": "stdout",
     "output_type": "stream",
     "text": [
      "The bound on the peak of KS is such that\n",
      "||KSGd|| >= 1.40\n"
     ]
    }
   ],
   "source": [
    "KSGmax = BoundKSG(G_utils_deadtime, RHPpoles, Up, Yp, Gd_ms = Gd_utils_deadtime)\n",
    "print(\"The bound on the peak of KS is such that\\n||KSGd|| >= %.2f\" %KSGmax)"
   ]
  },
  {
   "cell_type": "markdown",
   "metadata": {},
   "source": [
    "#### Bound on peak of SG"
   ]
  },
  {
   "cell_type": "code",
   "execution_count": 44,
   "metadata": {
    "collapsed": true
   },
   "outputs": [],
   "source": [
    "def general_peak_bounds(W1, W2, poles, Up, Yp, zeros, Uz, Yz):\n",
    "    \n",
    "    Nz = len(zeros)\n",
    "    Np = len(poles)\n",
    "    \n",
    "    Qz1  = np.zeros((Nz,Nz),dtype=complex)\n",
    "    Qz2  = np.zeros((Nz,Nz),dtype=complex)\n",
    "    Qp1  = np.zeros((Np,Np),dtype=complex)\n",
    "    Qp2  = np.zeros((Np,Np),dtype=complex)\n",
    "    Qzp1 = np.zeros((Nz,Np),dtype=complex)\n",
    "    Qzp2 = np.zeros((Nz,Np),dtype=complex)\n",
    "    \n",
    "    \n",
    "    for i in range(Nz):\n",
    "        for j in range(Nz):\n",
    "            if (zeros[i] + np.conjugate(zeros[i])) == 0:\n",
    "                Qz1[i,j] = (Yz[:,i].H * nplinalg.pinv(W1(zeros[i])) * nplinalg.pinv(W1(zeros[j])).H * Yz[:,j])[0,0]\n",
    "                Qz2[i,j] = (Yz[:,i].H * W2(zeros[i]) * W2(zeros[j]) * Yz[:,j])[0,0]\n",
    "            else:\n",
    "                Qz1[i,j] = ((Yz[:,i].H * nplinalg.pinv(W1(zeros[i])) * nplinalg.pinv(W1(zeros[j])).H * Yz[:,j]) / (zeros[i] + np.conjugate(zeros[j])))[0,0]\n",
    "                Qz2[i,j] = ((Yz[:,i].H * W2(zeros[i]) * W2(zeros[j]) * Yz[:,j]) / (zeros[i] + np.conjugate(zeros[j])))[0,0]\n",
    "    \n",
    "    for i in range(Np):\n",
    "        for j in range(Np):\n",
    "            if (np.conjugate(poles[i]) + poles[j]) == 0:\n",
    "                Qp1[i,j] = (Yp[:,i].H * W1(poles[i]).H * W1(poles[j]) * Yp[:,j])[0,0]\n",
    "                Qp2[i,j] = (Yp[:,i].H * nplinalg.pinv(W2(poles[i])).H * nplinalg.pinv(W2(poles[j])) * Yp[:,j])[0,0]\n",
    "            else:\n",
    "                Qp1[i,j] = ((Yp[:,i].H * W1(poles[i]).H * W1(poles[j]) * Yp[:,j]) / (np.conjugate(poles[i]) + poles[j]))[0,0]\n",
    "                Qp2[i,j] = ((Yp[:,i].H * nplinalg.pinv(W2(poles[i])).H * nplinalg.pinv(W2(poles[j])) * Yp[:,j]) / (np.conjugate(poles[i]) + poles[j]))[0,0]\n",
    "     \n",
    "    for i in range(Nz):\n",
    "        for j in range(Np):\n",
    "            if (zeros[i] + poles[j]) == 0:\n",
    "                Qzp1[i,j] = (Yz[:,i].H * nplinalg.pinv(W1(zeros[i])) * W1(poles[j]) * Yp[:,j])[0,0]\n",
    "                Qzp2[i,j] = (Yz[:,i].H * W2(zeros[i]) * nplinalg.pinv(W2(poles[j])) * Yp[:,j])[0,0]\n",
    "            else:\n",
    "                Qzp1[i,j] = ((Yz[:,i].H * nplinalg.pinv(W1(zeros[i])) * W1(poles[j]) * Yp[:,j]) / (zeros[i] + poles[j]))[0,0]\n",
    "                Qzp2[i,j] = ((Yz[:,i].H * W2(zeros[i]) * nplinalg.pinv(W2(poles[j])) * Yp[:,j]) / (zeros[i] + poles[j]))[0,0]\n",
    "    \n",
    "    S_mat = sclinalg.sqrtm(nplinalg.pinv(Qz1)).dot(Qz2 + (np.asmatrix(Qzp2)).dot(nplinalg.pinv(Qp2)).dot(np.asmatrix(Qzp2).H))\\\n",
    "                            .dot(sclinalg.sqrtm(nplinalg.pinv(Qz1)))\n",
    "    T_mat = sclinalg.sqrtm(nplinalg.pinv(Qp2)).dot(Qp1 + (np.asmatrix(Qzp1).H).dot(nplinalg.pinv(Qz1)).dot(Qzp1))\\\n",
    "                            .dot(sclinalg.sqrtm(nplinalg.pinv(Qp2)))\n",
    "    \n",
    "    Ms_min = float(sqrt(abs((np.max(nplinalg.eig(S_mat)[0])).real)))\n",
    "    Mt_min = float(sqrt(abs((np.max(nplinalg.eig(T_mat)[0])).real)))\n",
    "\n",
    "    return Ms_min, Mt_min\n",
    "\n",
    "def BoundSG(G_ms, poles, Up, Yp, zeros, Uz, Yz):\n",
    "    \n",
    "    e = 0.00001\n",
    "    \n",
    "    def W1(s):\n",
    "        return np.asmatrix(np.eye(G_ms.shape[0]))\n",
    "    def W2(pz):\n",
    "        return G_ms(pz + e)\n",
    " \n",
    "    return general_peak_bounds(W1, W2, poles, Up, Yp, zeros, Uz, Yz)"
   ]
  },
  {
   "cell_type": "code",
   "execution_count": null,
   "metadata": {
    "collapsed": false
   },
   "outputs": [],
   "source": [
    "#SG_peak, _ = BoundSG(G_utils, RHPpoles, Up, Yp, RHPzeros, Uz, Yz)\n",
    "#print(\"The bound on the peak of SG is such that\\n||SG|| >= %.2f\" %SG_peak)"
   ]
  },
  {
   "cell_type": "markdown",
   "metadata": {},
   "source": [
    "#### Bound on peak of SGd"
   ]
  },
  {
   "cell_type": "code",
   "execution_count": null,
   "metadata": {
    "collapsed": false
   },
   "outputs": [],
   "source": [
    "#SGd_peak, _ = BoundSG(Gd_utils, RHPpoles, Up, Yp, RHPzeros, Uz, Yz)\n",
    "#print(\"The bound on the peak of SGd is such that\\n||SGd|| >= %.2f\" %SGd_peak)"
   ]
  },
  {
   "cell_type": "markdown",
   "metadata": {
    "collapsed": true
   },
   "source": [
    "# Uncertainty Anaylysis of Mill Discharge Circuit"
   ]
  },
  {
   "cell_type": "code",
   "execution_count": 45,
   "metadata": {
    "collapsed": true
   },
   "outputs": [],
   "source": [
    "Npoints = 10000\n",
    "Delta_As = (np.random.rand(Npoints)*2-1 + \n",
    "            (np.random.rand(Npoints)*2 - 1)*1j)\n",
    "valid_values = np.abs(Delta_As) < 1\n",
    "Delta_As = Delta_As[valid_values]\n",
    "\n",
    "def nyquist_curve(Gnominal, w, freq, uncertainty = 'additive', axlines = true, axlim = None):\n",
    "    if uncertainty == 'additive':\n",
    "        Gp = Gnominal[freq] + w*Delta_As\n",
    "    elif uncertainty == 'multiplicative':\n",
    "        Gp = Gnominal[freq] + Gnominal[freq]*w*Delta_As\n",
    "    \n",
    "    plt.plot(Gnominal.real, Gnominal.imag, color = 'black')\n",
    "    plt.scatter(Gp.real,Gp.imag, alpha=0.03)\n",
    "    \n",
    "    if axlim == None:\n",
    "        plt.axis([None, None, None, None])\n",
    "    else:\n",
    "        plt.axis(axlim)\n",
    "    plt.scatter(-1, 0, s=100, color='magenta')\n",
    "    if axlines:\n",
    "        plt.axhline(0, color='black')\n",
    "        plt.axvline(0, color='black')\n",
    "    plt.xlabel('Re')\n",
    "    plt.ylabel('Im')\n",
    "\n",
    "freq_range = np.logspace(-4,2,500)\n",
    "s = 1j*freq_range"
   ]
  },
  {
   "cell_type": "code",
   "execution_count": 46,
   "metadata": {
    "collapsed": false
   },
   "outputs": [
    {
     "name": "stdout",
     "output_type": "stream",
     "text": [
      "SL/SP = \n"
     ]
    },
    {
     "data": {
      "text/plain": [
       "-0.01 \n",
       "──────\n",
       "  s   "
      ]
     },
     "execution_count": 46,
     "metadata": {},
     "output_type": "execute_result"
    }
   ],
   "source": [
    "print(\"SL/SP = \")\n",
    "G_square_deadtime[0,0]"
   ]
  },
  {
   "cell_type": "markdown",
   "metadata": {},
   "source": [
    "#### Addive parametric uncertainty"
   ]
  },
  {
   "cell_type": "code",
   "execution_count": 47,
   "metadata": {
    "collapsed": true
   },
   "outputs": [],
   "source": [
    "def Gp11(x,s):\n",
    "    return x[0]/(s*(x[1]*s+1))\n",
    "\n",
    "def Gn11(param,s):\n",
    "    return param[0]/(s)\n",
    "\n",
    "def deviation(x,s,nom_param):\n",
    "    Gn = Gn11(nom_param,s)\n",
    "    Gp = Gp11(x,s)\n",
    "    diff = -1*np.abs((Gp - Gn))\n",
    "    return diff\n",
    "\n",
    "result_w11 = np.zeros((len(freq_range),1))\n",
    "for i in range(len(freq_range)):\n",
    "    result_w11[i,:] = minimize(deviation, [-0.01, 1], args = (1j*freq_range[i], [-0.01]), bounds = [[-1,-0.001],[0,2]])['fun']\n"
   ]
  },
  {
   "cell_type": "code",
   "execution_count": null,
   "metadata": {
    "collapsed": false
   },
   "outputs": [
    {
     "data": {
      "text/plain": [
       "<matplotlib.text.Text at 0xd9cabe0>"
      ]
     },
     "execution_count": 48,
     "metadata": {},
     "output_type": "execute_result"
    },
    {
     "data": {
      "image/png": "[encoded data removed]",
      "text/plain": [
       "<matplotlib.figure.Figure at 0xd99fe10>"
      ]
     },
     "metadata": {},
     "output_type": "display_data"
    }
   ],
   "source": [
    "plt.loglog(freq_range,-result_w11,label = 'max|Gp - G|')\n",
    "\n",
    "def w11(s):\n",
    "    return 90*10**(-4)/(s+10**(-4))\n",
    "\n",
    "plt.loglog(freq_range,np.abs(w11(1j*freq_range)),'r', label = 'fitted weight')\n",
    "plt.legend()\n",
    "plt.xlabel('Frequency')\n",
    "plt.ylabel('Magnitude')"
   ]
  },
  {
   "cell_type": "code",
   "execution_count": null,
   "metadata": {
    "collapsed": false
   },
   "outputs": [],
   "source": [
    "print(\"SL/SF = \")\n",
    "G_square_deadtime[0,1]"
   ]
  },
  {
   "cell_type": "markdown",
   "metadata": {},
   "source": [
    "#### Multiplicative paramtric uncertainty"
   ]
  },
  {
   "cell_type": "code",
   "execution_count": null,
   "metadata": {
    "collapsed": true
   },
   "outputs": [],
   "source": [
    "def Gp12(x,s):\n",
    "    return x[0]*np.exp(-x[1]*s)/(s*(x[2]*s+1))\n",
    "\n",
    "def Gn12(param,s):\n",
    "    return param[0]*np.exp(-param[1]*s)/(s*(param[2]*s+1))\n",
    "\n",
    "def deviation(x,s,d,nom_param):\n",
    "    Gn = Gn12(nom_param,s)\n",
    "    Gp = Gp12(x,s)\n",
    "    diff = -1*np.abs((Gp - Gn)/Gn)\n",
    "    return diff\n",
    "\n",
    "result_w12 = np.zeros((len(freq_range),1))\n",
    "for i in range(len(freq_range)):\n",
    "    result_w12[i,:] = minimize(deviation, [0.01, 121, 90], args = (1j*freq_range[i], 1, [0.01, 121, 90]), bounds = [[0.001,0.1],[100,300],[60,120]])['fun']\n"
   ]
  },
  {
   "cell_type": "code",
   "execution_count": null,
   "metadata": {
    "collapsed": false
   },
   "outputs": [],
   "source": [
    "plt.loglog(freq_range,-result_w12,label = 'max|Gp - G|')\n",
    "\n",
    "def w12(s):\n",
    "    return 100*(s+0.01)/(6*s+0.1)\n",
    "\n",
    "plt.loglog(freq_range,np.abs(w12(1j*freq_range)),'r', label = 'fitted weight')\n",
    "plt.legend()\n",
    "plt.xlabel('Frequency')\n",
    "plt.ylabel('Magnitude')"
   ]
  },
  {
   "cell_type": "code",
   "execution_count": null,
   "metadata": {
    "collapsed": false
   },
   "outputs": [],
   "source": [
    "print(\"CFD/SF = \")\n",
    "G_square_deadtime[1,1]"
   ]
  },
  {
   "cell_type": "markdown",
   "metadata": {},
   "source": [
    "#### Multiplicative parametric uncertainty"
   ]
  },
  {
   "cell_type": "code",
   "execution_count": null,
   "metadata": {
    "collapsed": true
   },
   "outputs": [],
   "source": [
    "def Gp22(x,s):\n",
    "    return x[0]*np.exp(-x[1]*s)/(s*(x[2]*s+1))\n",
    "\n",
    "def Gn22(x,s):\n",
    "    return x[0]*np.exp(-x[1]*s)/(s*(x[2]*s+1))\n",
    "    \n",
    "def deviation(x,s,nom_param):\n",
    "    Gp = Gp22(x,s)\n",
    "    Gn = Gn22(nom_param,s)    \n",
    "    diff = -1*np.abs((Gp - Gn)/Gn)\n",
    "    return diff\n",
    "\n",
    "result_w22 = np.zeros((len(freq_range),1))\n",
    "for i in range(len(freq_range)):\n",
    "    result_w22[i,:] = minimize(deviation, [0.01, 124, 33.33], args = (1j*freq_range[i], [0.01, 124, 33.33]), bounds = [[0.001,10],[100,300],[0,120],])['fun']\n"
   ]
  },
  {
   "cell_type": "code",
   "execution_count": null,
   "metadata": {
    "collapsed": false
   },
   "outputs": [],
   "source": [
    "plt.loglog(freq_range,-result_w22,label = 'max|Gp - G|')\n",
    "\n",
    "def w22(s):\n",
    "    return  1000*(s+0.03)/0.03\n",
    "\n",
    "plt.loglog(freq_range,np.abs(w22(1j*freq_range)),'r',label = 'fitted weight')\n",
    "plt.legend(bbox_to_anchor=(1.05, 1), loc=2, borderaxespad=0.)\n",
    "plt.xlabel('Frequency')\n",
    "plt.ylabel('Magnitude')"
   ]
  },
  {
   "cell_type": "code",
   "execution_count": null,
   "metadata": {
    "collapsed": false
   },
   "outputs": [],
   "source": [
    "print(\"SuL/SP=\")\n",
    "G_square_deadtime[2,0]"
   ]
  },
  {
   "cell_type": "markdown",
   "metadata": {},
   "source": [
    "#### Multiplicative parametric and neglected lag uncertainty"
   ]
  },
  {
   "cell_type": "code",
   "execution_count": null,
   "metadata": {
    "collapsed": true
   },
   "outputs": [],
   "source": [
    "def Gp31(x,s):\n",
    "    return x[0]*np.exp(-x[1]*s)/(x[2]*s+1)\n",
    "\n",
    "def Gn31(x,s):\n",
    "    return x[0]*np.exp(-x[1]*s)/s\n",
    "    \n",
    "def deviation(x,s,nom_param):\n",
    "    Gn = Gn31(nom_param,s)    \n",
    "    Gp = Gn * Gp31(x,s)\n",
    "    diff = -1*np.abs((Gp - Gn))\n",
    "    return diff\n",
    "\n",
    "result_w31 = np.zeros((len(freq_range),1))\n",
    "for i in range(len(freq_range)):\n",
    "    result_w31[i,:] = minimize(deviation, [0.0004,1.258,1], args = (1j*freq_range[i], [0.0004,1.258]), bounds = [[0.0002,1],[0,60],[0,180]])['fun']\n"
   ]
  },
  {
   "cell_type": "code",
   "execution_count": null,
   "metadata": {
    "collapsed": false
   },
   "outputs": [],
   "source": [
    "plt.loglog(freq_range,-result_w31,label = 'max|Gp - G|')\n",
    "\n",
    "def w31(s):\n",
    "    b = 10**(-4)\n",
    "    return 8*b/(s+b)\n",
    "\n",
    "plt.semilogx(freq_range,np.abs(w31(1j*freq_range)),'r',label = 'fitted weight')\n",
    "plt.legend(bbox_to_anchor=(1.05, 0.6), loc=2, mode = 'expanded',borderaxespad=0.)\n",
    "plt.xlabel('Frequency')\n",
    "plt.ylabel('Magnitude')"
   ]
  },
  {
   "cell_type": "code",
   "execution_count": null,
   "metadata": {
    "collapsed": false
   },
   "outputs": [],
   "source": [
    "print(\"SuL/RFF=\")\n",
    "G_square_deadtime[2,2]"
   ]
  },
  {
   "cell_type": "markdown",
   "metadata": {},
   "source": [
    "#### Multiplicative parametric uncertainty"
   ]
  },
  {
   "cell_type": "code",
   "execution_count": null,
   "metadata": {
    "collapsed": true
   },
   "outputs": [],
   "source": [
    "def Gp33(x,s):\n",
    "    return x[0]*np.exp(-x[1]*s)/s\n",
    "\n",
    "def Gn33(param,s):\n",
    "    return param[0]*np.exp(-param[1]*s)/s\n",
    "    \n",
    "def deviation(x,s,nom_param):\n",
    "    Gn = Gn33(nom_param,s)    \n",
    "    Gp = Gp33(x,s)\n",
    "    diff = -1*np.abs((Gp - Gn)/Gn)\n",
    "    return diff\n",
    "\n",
    "result_w33 = np.zeros((len(freq_range),1))\n",
    "for i in range(len(freq_range)):\n",
    "    result_w33[i,:] = minimize(deviation, [-0.003,6.26], args = (1j*freq_range[i], [-0.003, 6.26]), bounds = [[-1,-0.0003],[0,10]])['fun']\n"
   ]
  },
  {
   "cell_type": "code",
   "execution_count": null,
   "metadata": {
    "collapsed": false
   },
   "outputs": [],
   "source": [
    "plt.loglog(freq_range,-result_w33,label = 'max|Gp - G|')\n",
    "def w33(s):\n",
    "    return 10*(s+0.00045)/(0.029*s+0.005)\n",
    "plt.loglog(freq_range,np.abs(w33(1j*freq_range)),'r',label = 'fitted weight')\n",
    "\n",
    "plt.legend(bbox_to_anchor=(1.05, 0.6), loc=2, mode = 'expanded',borderaxespad=0.)\n",
    "plt.xlabel('Frequency')\n",
    "plt.ylabel('Magnitude')\n",
    "#def plot_weight(a,b,c,d,e):\n",
    "#    plt.loglog(freq_range,-result_w33)\n",
    "#    w33 = a*(b*s+c)/(d*s+e)\n",
    "#   plt.loglog(freq_range,np.abs(w33),'r')\n",
    "\n",
    "#i = interact(plot_weight, a=(1, 20, 1), b=(0.1, 1.9, 0.1), c=(0.0001, 0.01, 0.001), d=(0.001, 0.1, 0.001), e =(0.001, 0.1, 0.001))"
   ]
  },
  {
   "cell_type": "code",
   "execution_count": null,
   "metadata": {
    "collapsed": false
   },
   "outputs": [],
   "source": [
    "print(\"SuL/SuFW = \")\n",
    "G_square_deadtime[2,3]"
   ]
  },
  {
   "cell_type": "markdown",
   "metadata": {},
   "source": [
    "#### Additive parametric uncertainty"
   ]
  },
  {
   "cell_type": "code",
   "execution_count": null,
   "metadata": {
    "collapsed": true
   },
   "outputs": [],
   "source": [
    "def Gp34(x,s):\n",
    "    return x[0]*np.exp(-x[1]*s)/s\n",
    "\n",
    "def Gn34(param,s):\n",
    "    return param[0]*np.exp(-param[1]*s)/s\n",
    "    \n",
    "def deviation(x,s,nom_param):\n",
    "    Gn = Gn34(nom_param,s)    \n",
    "    Gp = Gp34(x,s)\n",
    "    diff = -1*np.abs((Gp - Gn))\n",
    "    return diff\n",
    "\n",
    "result_w34 = np.zeros((len(freq_range),1))\n",
    "for i in range(len(freq_range)):\n",
    "    result_w34[i,:] = minimize(deviation, [0.0006, 0.415], args = (1j*freq_range[i], [0.0006, 0.415]), bounds = [[0.0006,1],[0,2]])['fun']\n"
   ]
  },
  {
   "cell_type": "code",
   "execution_count": null,
   "metadata": {
    "collapsed": false
   },
   "outputs": [],
   "source": [
    "plt.loglog(freq_range,-result_w34,label = 'max|Gp - G|')\n",
    "\n",
    "def w34(s):\n",
    "    return 1/(s+10**(-4))\n",
    "\n",
    "plt.loglog(freq_range,np.abs(w34(1j*freq_range)),'r',label = 'fitted weight')\n",
    "\n",
    "plt.legend(bbox_to_anchor=(1.05, 0.6), loc=2, mode = 'expanded',borderaxespad=0.)\n",
    "plt.xlabel('Frequency')\n",
    "plt.ylabel('Magnitude')"
   ]
  },
  {
   "cell_type": "code",
   "execution_count": null,
   "metadata": {
    "collapsed": false
   },
   "outputs": [],
   "source": [
    "print(\"RFD/SF = \")\n",
    "G_square_deadtime[3,1]"
   ]
  },
  {
   "cell_type": "markdown",
   "metadata": {},
   "source": [
    "#### Multiplicative paramtric uncertainty"
   ]
  },
  {
   "cell_type": "code",
   "execution_count": null,
   "metadata": {
    "collapsed": true
   },
   "outputs": [],
   "source": [
    "def Gp42(x,s):\n",
    "    return x[0]*np.exp(-x[1]*s)/(s*(x[2]*s**s + x[3]*s + x[4]))\n",
    "\n",
    "def Gn42(x,s):\n",
    "    return x[0]*np.exp(-x[1]*s)/(s*(x[2]*s**s + x[3]*s + x[4]))\n",
    "\n",
    "def deviation(x,s,nom_param):\n",
    "    Gn = Gn42(nom_param,s)    \n",
    "    Gp = Gp42(x,s)\n",
    "    diff = -1*np.abs((Gp - Gn)/Gn)\n",
    "    return diff\n",
    "\n",
    "result_w42 = np.zeros((len(freq_range),1))\n",
    "for i in range(len(freq_range)):\n",
    "    result_w42[i,:] = minimize(deviation, [0.0006, 126.49, 1422.9, 41.6, 0.03], args = (1j*freq_range[i], [0.0006, 126.49, 1422.9, 41.6, 0.03]), bounds = [[0.0006, 1], [100,200], [1200,1600], [37,46], [0.027,0.033]])['fun']"
   ]
  },
  {
   "cell_type": "code",
   "execution_count": null,
   "metadata": {
    "collapsed": false
   },
   "outputs": [],
   "source": [
    "plt.semilogx(freq_range,-result_w42,label = 'max|Gp - G|')\n",
    "def w42(s):\n",
    "    return (0.1*s+580)/(2*s+5) + 1877\n",
    "plt.semilogx(freq_range,np.abs(w42(1j*freq_range)),'r',label = 'fitted weight')\n",
    "\n",
    "plt.legend(bbox_to_anchor=(1.05, 0.6), loc=2, mode = 'expanded',borderaxespad=0.)\n",
    "plt.xlabel('Frequency')\n",
    "plt.ylabel('Magnitude')\n",
    "\n",
    "#def plot_weight(a,b,c,d,e,f):\n",
    "#    plt.semilogx(freq_range,-result_w42)\n",
    "#    w42 = a*(b*s+c)/(d*s+e) + f\n",
    "#    plt.semilogx(freq_range,np.abs(w42),'r')\n",
    "#i = interact(plot_weight, a=(1, 10, 0.1), b=(0.1, 1, 0.10), c=(1, 1000, 10), d=(0.1, 20, 0.10), e =(0.1, 10, 0.10),f=(1000, 2000, 1))"
   ]
  },
  {
   "cell_type": "code",
   "execution_count": null,
   "metadata": {
    "collapsed": false
   },
   "outputs": [],
   "source": [
    "print(\"RFD/SuFW = \")\n",
    "G_square_deadtime[3,3]"
   ]
  },
  {
   "cell_type": "markdown",
   "metadata": {},
   "source": [
    "#### Additive parametric uncertainty"
   ]
  },
  {
   "cell_type": "code",
   "execution_count": null,
   "metadata": {
    "collapsed": true
   },
   "outputs": [],
   "source": [
    "def Gp44(x,s):\n",
    "    return x[0]*np.exp(-x[1]*s)/(x[2]*s+1)\n",
    "\n",
    "def Gn44(x,s):\n",
    "    return x[0]*np.exp(-x[1]*s)/(x[2]*s + 1)\n",
    "\n",
    "def deviation(x,s,nom_param):\n",
    "    Gn = Gn44(nom_param,s)    \n",
    "    Gp = Gp44(x,s)\n",
    "    diff = -1*np.abs((Gp - Gn))\n",
    "    return diff\n",
    "\n",
    "result_w44 = np.zeros((len(freq_range),1))\n",
    "for i in range(len(freq_range)):\n",
    "    result_w44[i,:] = minimize(deviation, [-0.5,5.81,1083.7], args = (1j*freq_range[i], [-0.5, 5.86, 1083.7]), bounds = [[-1,-0.05],[0, 10],[1000,1500]])['fun']"
   ]
  },
  {
   "cell_type": "code",
   "execution_count": null,
   "metadata": {
    "collapsed": false
   },
   "outputs": [],
   "source": [
    "plt.loglog(freq_range,-result_w44,label = 'max|Gp - G|')\n",
    "def w44(s):\n",
    "    return 0.187/(130*s+0.414)\n",
    "plt.loglog(freq_range,np.abs(w44(1j*freq_range)),'r',label = 'fitted weight')\n",
    "\n",
    "plt.legend(bbox_to_anchor=(1.05, 0.6), loc=2, mode = 'expanded',borderaxespad=0.)\n",
    "plt.xlabel('Frequency')\n",
    "plt.ylabel('Magnitude')\n",
    "\n",
    "#def plot_weight(b):\n",
    "#    plt.loglog(freq_range,-result_w44)\n",
    "#    w44 = 0.187/(b*s+0.414)\n",
    "#    plt.loglog(freq_range,np.abs(w44),'r')\n",
    "#i = interact(plot_weight, b=(0.1, 100, 0.10))"
   ]
  },
  {
   "cell_type": "code",
   "execution_count": null,
   "metadata": {
    "collapsed": true
   },
   "outputs": [],
   "source": []
  }
 ],
 "metadata": {
  "kernelspec": {
   "display_name": "Python 3",
   "language": "python",
   "name": "python3"
  },
  "language_info": {
   "codemirror_mode": {
    "name": "ipython",
    "version": 3
   },
   "file_extension": ".py",
   "mimetype": "text/x-python",
   "name": "python",
   "nbconvert_exporter": "python",
   "pygments_lexer": "ipython3",
   "version": "3.5.1"
  }
 },
 "nbformat": 4,
 "nbformat_minor": 0
}
